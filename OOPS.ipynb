{
 "cells": [
  {
   "cell_type": "code",
   "execution_count": null,
   "metadata": {},
   "outputs": [],
   "source": [
    "class Animal:   #How to create a class"
   ]
  },
  {
   "cell_type": "code",
   "execution_count": null,
   "metadata": {},
   "outputs": [],
   "source": [
    "'''3 different kind of variables\n",
    "1) Instance variable object level\n",
    "2) Static variable Class level\n",
    "3) Local Variable: method level'''"
   ]
  },
  {
   "cell_type": "code",
   "execution_count": null,
   "metadata": {},
   "outputs": [],
   "source": [
    "'''3 different kind of methods\n",
    "1) Instance method\n",
    "2) Static method\n",
    "3) class method'''"
   ]
  },
  {
   "cell_type": "code",
   "execution_count": null,
   "metadata": {},
   "outputs": [],
   "source": [
    "a=Animal()"
   ]
  },
  {
   "cell_type": "code",
   "execution_count": 24,
   "metadata": {},
   "outputs": [],
   "source": [
    "class Student:\n",
    "    def __init__(self): # constructor\n",
    "        print('I will call myself')\n",
    "        self.name='Jimmy'\n",
    "        self.age=22\n",
    "        self.rollno=101\n",
    "\n",
    "    def call_name(self):\n",
    "        print('My name is', self.name)\n",
    "        print('My roll no is,',self.rollno)"
   ]
  },
  {
   "cell_type": "code",
   "execution_count": 28,
   "metadata": {},
   "outputs": [
    {
     "name": "stdout",
     "output_type": "stream",
     "text": [
      "4463964192\n",
      "4463955408\n"
     ]
    }
   ],
   "source": [
    "print(id(s))\n",
    "print(id(s1))"
   ]
  },
  {
   "cell_type": "code",
   "execution_count": 25,
   "metadata": {},
   "outputs": [
    {
     "name": "stdout",
     "output_type": "stream",
     "text": [
      "I will call myself\n"
     ]
    }
   ],
   "source": [
    "s=Student()"
   ]
  },
  {
   "cell_type": "code",
   "execution_count": 16,
   "metadata": {},
   "outputs": [
    {
     "data": {
      "text/plain": [
       "'Jimmy'"
      ]
     },
     "execution_count": 16,
     "metadata": {},
     "output_type": "execute_result"
    }
   ],
   "source": [
    "s.name"
   ]
  },
  {
   "cell_type": "code",
   "execution_count": 17,
   "metadata": {},
   "outputs": [
    {
     "data": {
      "text/plain": [
       "22"
      ]
     },
     "execution_count": 17,
     "metadata": {},
     "output_type": "execute_result"
    }
   ],
   "source": [
    "s.age"
   ]
  },
  {
   "cell_type": "code",
   "execution_count": 18,
   "metadata": {},
   "outputs": [
    {
     "data": {
      "text/plain": [
       "101"
      ]
     },
     "execution_count": 18,
     "metadata": {},
     "output_type": "execute_result"
    }
   ],
   "source": [
    "s.rollno"
   ]
  },
  {
   "cell_type": "code",
   "execution_count": 19,
   "metadata": {},
   "outputs": [
    {
     "name": "stdout",
     "output_type": "stream",
     "text": [
      "My name is Jimmy\n",
      "My roll no is, 101\n"
     ]
    }
   ],
   "source": [
    "s.call_name()"
   ]
  },
  {
   "cell_type": "code",
   "execution_count": 26,
   "metadata": {},
   "outputs": [
    {
     "name": "stdout",
     "output_type": "stream",
     "text": [
      "I will call myself\n"
     ]
    }
   ],
   "source": [
    "s1=Student()"
   ]
  },
  {
   "cell_type": "code",
   "execution_count": 21,
   "metadata": {},
   "outputs": [
    {
     "data": {
      "text/plain": [
       "101"
      ]
     },
     "execution_count": 21,
     "metadata": {},
     "output_type": "execute_result"
    }
   ],
   "source": [
    "s1.rollno"
   ]
  },
  {
   "cell_type": "code",
   "execution_count": 27,
   "metadata": {},
   "outputs": [
    {
     "name": "stdout",
     "output_type": "stream",
     "text": [
      "I will call myself\n"
     ]
    }
   ],
   "source": [
    "s2=Student()"
   ]
  },
  {
   "cell_type": "code",
   "execution_count": 91,
   "metadata": {},
   "outputs": [],
   "source": [
    "class Student:\n",
    "    def __init__(self): # constructor\n",
    "        #print('I will call myself')\n",
    "        self.name='Tim'\n",
    "        self.age=20\n",
    "        self.rollno=100\n",
    "\n",
    "    def call_name(self):\n",
    "        print('My name is', self.name)\n",
    "        print('My roll no is,',self.rollno)"
   ]
  },
  {
   "cell_type": "code",
   "execution_count": 92,
   "metadata": {},
   "outputs": [],
   "source": [
    "s=Student()\n",
    "s1=Student()"
   ]
  },
  {
   "cell_type": "code",
   "execution_count": null,
   "metadata": {},
   "outputs": [],
   "source": [
    "'''the purpose of constructor is to provide variables and to perform the initialization'''"
   ]
  },
  {
   "cell_type": "code",
   "execution_count": 93,
   "metadata": {},
   "outputs": [
    {
     "name": "stdout",
     "output_type": "stream",
     "text": [
      "Student name Tim\n",
      "student roll 100\n",
      "Student age 20\n"
     ]
    }
   ],
   "source": [
    "print('Student name',s.name)\n",
    "print('student roll', s.rollno)\n",
    "print('Student age',s.age)"
   ]
  },
  {
   "cell_type": "code",
   "execution_count": 94,
   "metadata": {},
   "outputs": [
    {
     "name": "stdout",
     "output_type": "stream",
     "text": [
      "Student name Tim\n",
      "student roll 100\n",
      "Student age 20\n"
     ]
    }
   ],
   "source": [
    "print('Student name',s1.name)\n",
    "print('student roll', s1.rollno)\n",
    "print('Student age',s1.age)"
   ]
  },
  {
   "cell_type": "code",
   "execution_count": 95,
   "metadata": {},
   "outputs": [
    {
     "name": "stdout",
     "output_type": "stream",
     "text": [
      "My name is Tim\n",
      "My roll no is, 100\n"
     ]
    }
   ],
   "source": [
    "s.call_name()"
   ]
  },
  {
   "cell_type": "code",
   "execution_count": 106,
   "metadata": {},
   "outputs": [],
   "source": [
    "class Student:\n",
    "    def __init__(self,name,age,rollno): # constructor\n",
    "        #print('I will call myself')\n",
    "        self.name=name\n",
    "        self.age=age\n",
    "        self.rollno=rollno\n",
    "\n",
    "    def call_name(self):\n",
    "        print('My name is', self.name)\n",
    "        print('My roll no is,',self.rollno)"
   ]
  },
  {
   "cell_type": "code",
   "execution_count": 102,
   "metadata": {},
   "outputs": [],
   "source": [
    "s=Student('Penelope Cruz', 45, 1)"
   ]
  },
  {
   "cell_type": "code",
   "execution_count": 103,
   "metadata": {},
   "outputs": [
    {
     "data": {
      "text/plain": [
       "'Penelope Cruz'"
      ]
     },
     "execution_count": 103,
     "metadata": {},
     "output_type": "execute_result"
    }
   ],
   "source": [
    "s.name"
   ]
  },
  {
   "cell_type": "code",
   "execution_count": 104,
   "metadata": {},
   "outputs": [],
   "source": [
    "s1=Student('Salma Hayek', 40,2)"
   ]
  },
  {
   "cell_type": "code",
   "execution_count": 105,
   "metadata": {},
   "outputs": [
    {
     "data": {
      "text/plain": [
       "'Salma Hayek'"
      ]
     },
     "execution_count": 105,
     "metadata": {},
     "output_type": "execute_result"
    }
   ],
   "source": [
    "s1.name"
   ]
  },
  {
   "cell_type": "code",
   "execution_count": 107,
   "metadata": {},
   "outputs": [],
   "source": [
    "s2=Student('Desperado',20,2002)"
   ]
  },
  {
   "cell_type": "code",
   "execution_count": 108,
   "metadata": {},
   "outputs": [
    {
     "data": {
      "text/plain": [
       "'Desperado'"
      ]
     },
     "execution_count": 108,
     "metadata": {},
     "output_type": "execute_result"
    }
   ],
   "source": [
    "s2.name"
   ]
  },
  {
   "cell_type": "code",
   "execution_count": 109,
   "metadata": {},
   "outputs": [],
   "source": [
    "class Test:\n",
    "    def __init__(self):\n",
    "        pass"
   ]
  },
  {
   "cell_type": "code",
   "execution_count": 110,
   "metadata": {},
   "outputs": [],
   "source": [
    "t=Test()"
   ]
  },
  {
   "cell_type": "code",
   "execution_count": 111,
   "metadata": {},
   "outputs": [],
   "source": [
    "class Test:\n",
    "    def __init__(self):\n",
    "        print('id of self',id(self))"
   ]
  },
  {
   "cell_type": "code",
   "execution_count": 112,
   "metadata": {},
   "outputs": [
    {
     "name": "stdout",
     "output_type": "stream",
     "text": [
      "id of self 4463801600\n",
      "id of reference variable 4463801600\n"
     ]
    }
   ],
   "source": [
    "t=Test()\n",
    "print('id of reference variable', id(t))"
   ]
  },
  {
   "cell_type": "code",
   "execution_count": 113,
   "metadata": {},
   "outputs": [
    {
     "name": "stdout",
     "output_type": "stream",
     "text": [
      "id of self 4463645792\n",
      "id of reference variable t1 4463645792\n"
     ]
    }
   ],
   "source": [
    "t1=Test()\n",
    "print('id of reference variable t1', id(t1))"
   ]
  },
  {
   "cell_type": "code",
   "execution_count": null,
   "metadata": {},
   "outputs": [],
   "source": [
    "'''self is a reference variable that is always pointing to the current object\n",
    "within the python class to access the current object we can use the self\n",
    "First argument to constructor is always self\n",
    "First argument to instance method is always self\n",
    "self is always used within the class\n",
    "Inside the constructor we use self to declare the object related variables- instance variables\n",
    "Inside the instance method we use self to access the values of instance variables\n",
    "self is not a keyword in python, instead of self we can use anything like calf,delf,helf'''"
   ]
  },
  {
   "cell_type": "code",
   "execution_count": 114,
   "metadata": {},
   "outputs": [],
   "source": [
    "class Test:\n",
    "    def __init__(self):\n",
    "        print('I am constructor')\n",
    "\n",
    "    def m1(self,x):\n",
    "        print('Method')"
   ]
  },
  {
   "cell_type": "code",
   "execution_count": 115,
   "metadata": {},
   "outputs": [
    {
     "name": "stdout",
     "output_type": "stream",
     "text": [
      "I am constructor\n"
     ]
    }
   ],
   "source": [
    "t=Test()"
   ]
  },
  {
   "cell_type": "code",
   "execution_count": 122,
   "metadata": {},
   "outputs": [],
   "source": [
    "class Student:\n",
    "    def __init__(delf): # constructor\n",
    "        #print('I will call myself')\n",
    "        delf.name='Leonardo'\n",
    "        delf.age=39\n",
    "        delf.rollno=1\n",
    "\n",
    "    def call_name(self):\n",
    "        print('My name is', self.name)\n",
    "        print('My roll no is,',self.rollno)"
   ]
  },
  {
   "cell_type": "code",
   "execution_count": 125,
   "metadata": {},
   "outputs": [],
   "source": [
    "s=Student()"
   ]
  },
  {
   "cell_type": "code",
   "execution_count": 126,
   "metadata": {},
   "outputs": [
    {
     "data": {
      "text/plain": [
       "'Leonardo'"
      ]
     },
     "execution_count": 126,
     "metadata": {},
     "output_type": "execute_result"
    }
   ],
   "source": [
    "s.name"
   ]
  },
  {
   "cell_type": "code",
   "execution_count": null,
   "metadata": {},
   "outputs": [],
   "source": [
    "'''Constructor is a special method\n",
    "2) Name of constructor is always __init__()\n",
    "3) We are not required to call constructor explicitly. It will be executed automatically when we are creating an object\n",
    "4) Constructor will be executed only once per object.\n",
    "5) main purpose of constructor is to declare and initialize instance variables\n",
    "6) within python class constructor is optional. If we are not providing constructor, default constructor will be provided by pvm\n",
    "7) We can call constructor explicitly, then it will be executed just like a normal method\n",
    "8) constructor will atleast take one argument(self)\n",
    "9) Constructor/method overloading is not possible in python'''"
   ]
  },
  {
   "cell_type": "code",
   "execution_count": 1,
   "metadata": {},
   "outputs": [],
   "source": [
    "class Student:\n",
    "    def __init__(self): # constructor\n",
    "        print('I will call myself')     "
   ]
  },
  {
   "cell_type": "code",
   "execution_count": 4,
   "metadata": {},
   "outputs": [
    {
     "name": "stdout",
     "output_type": "stream",
     "text": [
      "I will call myself\n",
      "4566589536\n"
     ]
    }
   ],
   "source": [
    "s=Student()\n",
    "print(id(s))"
   ]
  },
  {
   "cell_type": "code",
   "execution_count": 5,
   "metadata": {},
   "outputs": [
    {
     "name": "stdout",
     "output_type": "stream",
     "text": [
      "I will call myself\n",
      "4566595632\n"
     ]
    }
   ],
   "source": [
    "s=Student()\n",
    "print(id(s))"
   ]
  },
  {
   "cell_type": "code",
   "execution_count": 6,
   "metadata": {},
   "outputs": [],
   "source": [
    "class Student:\n",
    "    def __init__(self,name,age,rollno): # constructor\n",
    "        #print('I will call myself')\n",
    "        self.name=name\n",
    "        self.age=age\n",
    "        self.rollno=rollno"
   ]
  },
  {
   "cell_type": "code",
   "execution_count": 7,
   "metadata": {},
   "outputs": [],
   "source": [
    "s=Student('Durga',30,123)"
   ]
  },
  {
   "cell_type": "code",
   "execution_count": 8,
   "metadata": {},
   "outputs": [],
   "source": [
    "class Animal:\n",
    "    def m1(self):\n",
    "        print('Talk to me girl')"
   ]
  },
  {
   "cell_type": "code",
   "execution_count": 9,
   "metadata": {},
   "outputs": [],
   "source": [
    "a=Animal()"
   ]
  },
  {
   "cell_type": "code",
   "execution_count": 10,
   "metadata": {},
   "outputs": [
    {
     "name": "stdout",
     "output_type": "stream",
     "text": [
      "Talk to me girl\n"
     ]
    }
   ],
   "source": [
    "a.m1()"
   ]
  },
  {
   "cell_type": "code",
   "execution_count": 16,
   "metadata": {},
   "outputs": [],
   "source": [
    "class Animal:\n",
    "    def __init__(self):\n",
    "        print('I will not talk to you', id(self))\n",
    "\n",
    "    def m1(self):\n",
    "        print('Talk to me please')"
   ]
  },
  {
   "cell_type": "code",
   "execution_count": 17,
   "metadata": {},
   "outputs": [
    {
     "name": "stdout",
     "output_type": "stream",
     "text": [
      "I will not talk to you 4566595680\n"
     ]
    }
   ],
   "source": [
    "a=Animal()"
   ]
  },
  {
   "cell_type": "code",
   "execution_count": 18,
   "metadata": {},
   "outputs": [
    {
     "name": "stdout",
     "output_type": "stream",
     "text": [
      "I will not talk to you 4566595680\n",
      "I will not talk to you 4566595680\n",
      "I will not talk to you 4566595680\n"
     ]
    }
   ],
   "source": [
    "a.__init__()\n",
    "a.__init__()\n",
    "a.__init__()"
   ]
  },
  {
   "cell_type": "code",
   "execution_count": 14,
   "metadata": {},
   "outputs": [
    {
     "name": "stdout",
     "output_type": "stream",
     "text": [
      "Talk to me please\n"
     ]
    }
   ],
   "source": [
    "a.m1()"
   ]
  },
  {
   "cell_type": "code",
   "execution_count": 19,
   "metadata": {},
   "outputs": [],
   "source": [
    "class Test:  #overloading the constructor\n",
    "    def __init__(self,x):\n",
    "        print('One arg constructor')"
   ]
  },
  {
   "cell_type": "code",
   "execution_count": 22,
   "metadata": {},
   "outputs": [
    {
     "name": "stdout",
     "output_type": "stream",
     "text": [
      "One arg constructor\n"
     ]
    }
   ],
   "source": [
    "t=Test(10)\n",
    "##t1=Test(10)"
   ]
  },
  {
   "cell_type": "code",
   "execution_count": null,
   "metadata": {},
   "outputs": [],
   "source": [
    "'''Instance variable- object level variable- if we want different copy for each object \n",
    "Static variable- class level variable- for all objects if we want only 1 copy\n",
    "Local variable- method level variable- if we need variable inside the method, to fulfil method requirements'''"
   ]
  },
  {
   "cell_type": "code",
   "execution_count": 1,
   "metadata": {},
   "outputs": [],
   "source": [
    "class Person:\n",
    "    personscintificname='Homosapians'   #Static variable \n",
    "    def __init__(self, name):\n",
    "        self.name=name  #instance variable\n",
    "\n",
    "\n",
    "    def m1(self):\n",
    "        x=10 #local variable\n",
    "        for i in range(x):\n",
    "            print(i)"
   ]
  },
  {
   "cell_type": "code",
   "execution_count": null,
   "metadata": {},
   "outputs": [],
   "source": [
    "'''3 different types of methods\n",
    "1) Instance method- object related method\n",
    "2) Class method- class related method\n",
    "3) Static method- General utility method'''"
   ]
  },
  {
   "cell_type": "code",
   "execution_count": null,
   "metadata": {},
   "outputs": [],
   "source": [
    "'''If we are using atleast one instance variable\n",
    "If we are not using atleast one instance variable- class method or static method\n",
    "if we are not using any instance variable but we are using static variable - class method\n",
    "if we are not using any instance variable and any static variable then this method is not related to object anc class and it is general utility method, and such method we have to declare as static method'''"
   ]
  },
  {
   "cell_type": "code",
   "execution_count": 10,
   "metadata": {},
   "outputs": [],
   "source": [
    "class Person:\n",
    "    personscintificname='Homosapians'   #Static variable \n",
    "    def __init__(self, name):\n",
    "        self.name=name  #instance variable\n",
    "\n",
    "    def getname(self):\n",
    "        print('Person name:', self.name)  #instance method\n",
    "\n",
    "    @classmethod\n",
    "    def getscientificname(cls):\n",
    "        print('Person scientific name is:', cls.personscintificname)"
   ]
  },
  {
   "cell_type": "code",
   "execution_count": 3,
   "metadata": {},
   "outputs": [],
   "source": [
    "p=Person('Brad')"
   ]
  },
  {
   "cell_type": "code",
   "execution_count": 4,
   "metadata": {},
   "outputs": [
    {
     "name": "stdout",
     "output_type": "stream",
     "text": [
      "Person name: Brad\n"
     ]
    }
   ],
   "source": [
    "p.getname()"
   ]
  },
  {
   "cell_type": "code",
   "execution_count": 5,
   "metadata": {},
   "outputs": [
    {
     "name": "stdout",
     "output_type": "stream",
     "text": [
      "Person name: Jackie\n"
     ]
    }
   ],
   "source": [
    "p1=Person('Jackie')\n",
    "p1.getname()"
   ]
  },
  {
   "cell_type": "code",
   "execution_count": null,
   "metadata": {},
   "outputs": [],
   "source": [
    "'''If we are trying to access atleast one instance variable then this method is always talking about particular object, hence it is an instance method\n",
    "first argument to instance method is alwayse self, which is refernce variable to the current object'''"
   ]
  },
  {
   "cell_type": "code",
   "execution_count": 11,
   "metadata": {},
   "outputs": [
    {
     "name": "stdout",
     "output_type": "stream",
     "text": [
      "Person scientific name is: Homosapians\n"
     ]
    }
   ],
   "source": [
    "Person.getscientificname()"
   ]
  },
  {
   "cell_type": "code",
   "execution_count": null,
   "metadata": {},
   "outputs": [],
   "source": [
    "'''For every class, PVM create one special object called class level object, to hold class level data\n",
    "cls is the reference variable to that class level objet'''"
   ]
  },
  {
   "cell_type": "code",
   "execution_count": 12,
   "metadata": {},
   "outputs": [],
   "source": [
    "class Test:\n",
    "\n",
    "    @classmethod\n",
    "    def m1(cls):\n",
    "        print(id(cls))\n",
    "\n",
    "    @classmethod\n",
    "    def m2(cls):\n",
    "        print(id(cls))"
   ]
  },
  {
   "cell_type": "code",
   "execution_count": 13,
   "metadata": {},
   "outputs": [
    {
     "name": "stdout",
     "output_type": "stream",
     "text": [
      "4379656192\n",
      "4379656192\n",
      "4379656192\n"
     ]
    }
   ],
   "source": [
    "print(id(Test))\n",
    "Test.m1()\n",
    "Test.m2()"
   ]
  },
  {
   "cell_type": "code",
   "execution_count": null,
   "metadata": {},
   "outputs": [],
   "source": [
    "'''Instead of cls we can use any name'''"
   ]
  },
  {
   "cell_type": "code",
   "execution_count": 14,
   "metadata": {},
   "outputs": [],
   "source": [
    "class Student:\n",
    "    @staticmethod  #general utility method\n",
    "    def getaverage(a,b,c):\n",
    "        return(a+b+c)/3"
   ]
  },
  {
   "cell_type": "code",
   "execution_count": 15,
   "metadata": {},
   "outputs": [
    {
     "name": "stdout",
     "output_type": "stream",
     "text": [
      "3.0\n"
     ]
    }
   ],
   "source": [
    "s=Student.getaverage(2,3,4)\n",
    "print(s)"
   ]
  },
  {
   "cell_type": "code",
   "execution_count": null,
   "metadata": {},
   "outputs": [],
   "source": [
    "'''Instance variables\n",
    "Varied from objects to objects\n",
    "for every object separate copy of instance variable is going to be created'''"
   ]
  },
  {
   "cell_type": "code",
   "execution_count": null,
   "metadata": {},
   "outputs": [],
   "source": [
    "'''how to declare instance varibales\n",
    "1) inside the constructor using self\n",
    "2) Inside instance method by using self\n",
    "3) outside class using object reference'''"
   ]
  },
  {
   "cell_type": "code",
   "execution_count": 1,
   "metadata": {},
   "outputs": [],
   "source": [
    "'''Inside constructor'''\n",
    "class Test:\n",
    "    def __init__(self):\n",
    "        self.a=100\n",
    "        self.b=200"
   ]
  },
  {
   "cell_type": "code",
   "execution_count": 2,
   "metadata": {},
   "outputs": [],
   "source": [
    "t=Test()"
   ]
  },
  {
   "cell_type": "code",
   "execution_count": 3,
   "metadata": {},
   "outputs": [
    {
     "name": "stdout",
     "output_type": "stream",
     "text": [
      "{'a': 100, 'b': 200}\n"
     ]
    }
   ],
   "source": [
    "print(t.__dict__)"
   ]
  },
  {
   "cell_type": "code",
   "execution_count": 4,
   "metadata": {},
   "outputs": [],
   "source": [
    "'''Inside instance method'''\n",
    "class Test:\n",
    "    def __init__(self):\n",
    "        self.a=100\n",
    "        self.b=200\n",
    "\n",
    "    def m1(self):\n",
    "        self.c=300"
   ]
  },
  {
   "cell_type": "code",
   "execution_count": 6,
   "metadata": {},
   "outputs": [
    {
     "name": "stdout",
     "output_type": "stream",
     "text": [
      "{'a': 100, 'b': 200, 'c': 300}\n"
     ]
    }
   ],
   "source": [
    "t1=Test()\n",
    "t1.m1()\n",
    "print(t1.__dict__)"
   ]
  },
  {
   "cell_type": "code",
   "execution_count": 7,
   "metadata": {},
   "outputs": [],
   "source": [
    "'''Outside the class'''\n",
    "class Test:\n",
    "    def __init__(self):\n",
    "        self.a=100\n",
    "        self.b=200\n",
    "\n",
    "    def m1(self):\n",
    "        self.c=300"
   ]
  },
  {
   "cell_type": "code",
   "execution_count": 8,
   "metadata": {},
   "outputs": [
    {
     "name": "stdout",
     "output_type": "stream",
     "text": [
      "{'a': 100, 'b': 200, 'c': 300, 'd': 400}\n"
     ]
    }
   ],
   "source": [
    "t2=Test()\n",
    "t2.m1()\n",
    "t2.d=400\n",
    "print(t2.__dict__)"
   ]
  },
  {
   "cell_type": "code",
   "execution_count": null,
   "metadata": {},
   "outputs": [],
   "source": [
    "'''Methods to access the instance variables\n",
    "1) within the class by using self\n",
    "2)outside the class using object reference'''"
   ]
  },
  {
   "cell_type": "code",
   "execution_count": 9,
   "metadata": {},
   "outputs": [],
   "source": [
    "class Test:\n",
    "    def __init__(self):\n",
    "        self.a=10\n",
    "        self.b=20\n",
    "\n",
    "    def m1(self):\n",
    "        print(self.a)\n",
    "        print(self.b)"
   ]
  },
  {
   "cell_type": "code",
   "execution_count": 10,
   "metadata": {},
   "outputs": [
    {
     "name": "stdout",
     "output_type": "stream",
     "text": [
      "10\n",
      "20\n"
     ]
    }
   ],
   "source": [
    "t=Test()\n",
    "t.m1()"
   ]
  },
  {
   "cell_type": "code",
   "execution_count": 11,
   "metadata": {},
   "outputs": [
    {
     "data": {
      "text/plain": [
       "20"
      ]
     },
     "execution_count": 11,
     "metadata": {},
     "output_type": "execute_result"
    }
   ],
   "source": [
    "t.b"
   ]
  },
  {
   "cell_type": "code",
   "execution_count": null,
   "metadata": {},
   "outputs": [],
   "source": [
    "'''How to delete instance variables\n",
    "within the class using   del self.variablename\n",
    "outside the class using  del objectreference.variablename'''"
   ]
  },
  {
   "cell_type": "code",
   "execution_count": 12,
   "metadata": {},
   "outputs": [],
   "source": [
    "class Test:\n",
    "    def __init__(self):\n",
    "        self.a=100\n",
    "        self.b=200\n",
    "        self.c='Python'\n",
    "        self.d='OOPS'\n",
    "\n",
    "    def m1(self):\n",
    "        del self.c"
   ]
  },
  {
   "cell_type": "code",
   "execution_count": 15,
   "metadata": {},
   "outputs": [
    {
     "name": "stdout",
     "output_type": "stream",
     "text": [
      "{'b': 200, 'd': 'OOPS'}\n"
     ]
    }
   ],
   "source": [
    "t=Test()\n",
    "t.m1()\n",
    "del t.a\n",
    "print(t.__dict__)"
   ]
  },
  {
   "cell_type": "code",
   "execution_count": 16,
   "metadata": {},
   "outputs": [],
   "source": [
    "class Test:\n",
    "    def __init__(self):\n",
    "        self.a=100\n",
    "        self.b=200\n",
    "        self.c='Python'\n",
    "        self.d='OOPS'\n",
    "\n",
    "    def m1(self):\n",
    "        del self.c"
   ]
  },
  {
   "cell_type": "code",
   "execution_count": 18,
   "metadata": {},
   "outputs": [
    {
     "name": "stdout",
     "output_type": "stream",
     "text": [
      "{'a': 100, 'b': 200, 'c': 'Python', 'd': 'OOPS'}\n",
      "{'a': 100, 'b': 200, 'd': 'OOPS'}\n"
     ]
    }
   ],
   "source": [
    "t1=Test()\n",
    "t2=Test()\n",
    "t1.m1()\n",
    "print(t2.__dict__)\n",
    "print(t1.__dict__)"
   ]
  },
  {
   "cell_type": "code",
   "execution_count": 19,
   "metadata": {},
   "outputs": [],
   "source": [
    "class Test:\n",
    "    def __init__(self):\n",
    "        self.a=100\n",
    "        self.b=200"
   ]
  },
  {
   "cell_type": "code",
   "execution_count": 21,
   "metadata": {},
   "outputs": [
    {
     "name": "stdout",
     "output_type": "stream",
     "text": [
      "{'a': 9, 'b': 19}\n",
      "{'a': 100, 'c': 500}\n"
     ]
    }
   ],
   "source": [
    "t1=Test()\n",
    "t2=Test()\n",
    "t1.a=9\n",
    "t1.b=19\n",
    "t2.c=500\n",
    "del t2.b\n",
    "print(t1.__dict__)\n",
    "print(t2.__dict__)"
   ]
  },
  {
   "cell_type": "code",
   "execution_count": null,
   "metadata": {},
   "outputs": [],
   "source": [
    "'''Static Variables\n",
    "dont vary from object to object\n",
    "Only one copy of these variables\n",
    "Declare them within the class directly'''"
   ]
  },
  {
   "cell_type": "code",
   "execution_count": 40,
   "metadata": {},
   "outputs": [],
   "source": [
    "class Instance:\n",
    "    def __init__(self):\n",
    "        self.a=10\n",
    "    def m1(self):\n",
    "        self.a=20\n",
    "        self.b=30\n",
    "        \n"
   ]
  },
  {
   "cell_type": "code",
   "execution_count": 41,
   "metadata": {},
   "outputs": [
    {
     "name": "stdout",
     "output_type": "stream",
     "text": [
      "{'a': 40, 'b': 50}\n"
     ]
    }
   ],
   "source": [
    "t=Instance()\n",
    "t.m1()\n",
    "t.a=40\n",
    "t.b=50\n",
    "print(t.__dict__)"
   ]
  },
  {
   "cell_type": "code",
   "execution_count": null,
   "metadata": {},
   "outputs": [],
   "source": [
    "'''Places where we can declare static variables\n",
    "1)Anywhere, but generally within the class directly, but outside any method\n",
    "2) Inside the constructor using class name\n",
    "3)Inside instance method using classname\n",
    "4)Inside class method using classname and cls\n",
    "5)Inside static method using classname\n",
    "6) Outside the class using class name'''"
   ]
  },
  {
   "cell_type": "code",
   "execution_count": 43,
   "metadata": {},
   "outputs": [
    {
     "name": "stdout",
     "output_type": "stream",
     "text": [
      "{'b': 20}\n",
      "{'__module__': '__main__', 'a': 10, '__init__': <function Test.__init__ at 0x10ad74ae0>, '__dict__': <attribute '__dict__' of 'Test' objects>, '__weakref__': <attribute '__weakref__' of 'Test' objects>, '__doc__': None}\n"
     ]
    }
   ],
   "source": [
    "class Test:\n",
    "    a=10\n",
    "    def __init__(self):\n",
    "        self.b=20\n",
    "\n",
    "t=Test()\n",
    "print(t.__dict__)\n",
    "print(Test.__dict__)"
   ]
  },
  {
   "cell_type": "code",
   "execution_count": 44,
   "metadata": {},
   "outputs": [
    {
     "name": "stdout",
     "output_type": "stream",
     "text": [
      "{'__module__': '__main__', 'a': 10, '__init__': <function Test.__init__ at 0x10ad763e0>, '__dict__': <attribute '__dict__' of 'Test' objects>, '__weakref__': <attribute '__weakref__' of 'Test' objects>, '__doc__': None, 'b': 20}\n"
     ]
    }
   ],
   "source": [
    "class Test:\n",
    "    a=10\n",
    "    def __init__(self):\n",
    "        Test.b=20\n",
    "\n",
    "t=Test()\n",
    "print(Test.__dict__)"
   ]
  },
  {
   "cell_type": "code",
   "execution_count": 45,
   "metadata": {},
   "outputs": [
    {
     "name": "stdout",
     "output_type": "stream",
     "text": [
      "{'__module__': '__main__', 'a': 10, '__init__': <function Test.__init__ at 0x10accb380>, 'm1': <function Test.m1 at 0x10accb740>, '__dict__': <attribute '__dict__' of 'Test' objects>, '__weakref__': <attribute '__weakref__' of 'Test' objects>, '__doc__': None, 'b': 20, 'c': 'Salma Hayek'}\n"
     ]
    }
   ],
   "source": [
    "class Test:\n",
    "    a=10\n",
    "    def __init__(self):\n",
    "        Test.b=20\n",
    "\n",
    "    def m1(self):\n",
    "        Test.c='Salma Hayek'\n",
    "\n",
    "t=Test()\n",
    "t.m1()\n",
    "print(Test.__dict__)"
   ]
  },
  {
   "cell_type": "code",
   "execution_count": 46,
   "metadata": {},
   "outputs": [
    {
     "name": "stdout",
     "output_type": "stream",
     "text": [
      "{'__module__': '__main__', 'a': 10, '__init__': <function Test.__init__ at 0x10accb7e0>, 'm1': <function Test.m1 at 0x10accb1a0>, 'm2': <classmethod(<function Test.m2 at 0x10acc8540>)>, '__dict__': <attribute '__dict__' of 'Test' objects>, '__weakref__': <attribute '__weakref__' of 'Test' objects>, '__doc__': None, 'b': 20, 'c': 'Salma Hayek', 'd': 'Penelope Cruz', 'e': 'Mila Kunis'}\n"
     ]
    }
   ],
   "source": [
    "class Test:\n",
    "    a=10\n",
    "    def __init__(self):\n",
    "        Test.b=20\n",
    "\n",
    "    def m1(self):\n",
    "        Test.c='Salma Hayek'\n",
    "\n",
    "    @classmethod\n",
    "    def m2(cls):\n",
    "        Test.d='Penelope Cruz'\n",
    "        cls.e='Mila Kunis'\n",
    "\n",
    "t=Test()\n",
    "t.m1()\n",
    "Test.m2()\n",
    "print(Test.__dict__)"
   ]
  },
  {
   "cell_type": "code",
   "execution_count": 47,
   "metadata": {},
   "outputs": [
    {
     "name": "stdout",
     "output_type": "stream",
     "text": [
      "{'__module__': '__main__', 'a': 10, '__init__': <function Test.__init__ at 0x10ad760c0>, 'm1': <function Test.m1 at 0x10ad76200>, 'm2': <classmethod(<function Test.m2 at 0x10ad75a80>)>, 'm3': <staticmethod(<function Test.m3 at 0x10ad75940>)>, '__dict__': <attribute '__dict__' of 'Test' objects>, '__weakref__': <attribute '__weakref__' of 'Test' objects>, '__doc__': None, 'b': 20, 'c': 'Salma Hayek', 'd': 'Penelope Cruz', 'e': 'Mila Kunis', 'f': 'Megan Fox'}\n"
     ]
    }
   ],
   "source": [
    "class Test:\n",
    "    a=10\n",
    "    def __init__(self):\n",
    "        Test.b=20\n",
    "\n",
    "    def m1(self):\n",
    "        Test.c='Salma Hayek'\n",
    "\n",
    "    @classmethod\n",
    "    def m2(cls):\n",
    "        Test.d='Penelope Cruz'\n",
    "        cls.e='Mila Kunis'\n",
    "\n",
    "    @staticmethod\n",
    "    def m3():\n",
    "        Test.f='Megan Fox'\n",
    "\n",
    "t=Test()\n",
    "t.m1()\n",
    "Test.m2()\n",
    "Test.m3()\n",
    "print(Test.__dict__)"
   ]
  },
  {
   "cell_type": "code",
   "execution_count": 48,
   "metadata": {},
   "outputs": [
    {
     "name": "stdout",
     "output_type": "stream",
     "text": [
      "{'__module__': '__main__', 'a': 10, '__init__': <function Test.__init__ at 0x10ad75800>, 'm1': <function Test.m1 at 0x10ad756c0>, 'm2': <classmethod(<function Test.m2 at 0x10ad75580>)>, 'm3': <staticmethod(<function Test.m3 at 0x10ad75760>)>, '__dict__': <attribute '__dict__' of 'Test' objects>, '__weakref__': <attribute '__weakref__' of 'Test' objects>, '__doc__': None, 'b': 20, 'c': 'Salma Hayek', 'd': 'Penelope Cruz', 'e': 'Mila Kunis', 'f': 'Megan Fox', 'g': 'Joe Saldana'}\n"
     ]
    }
   ],
   "source": [
    "class Test:\n",
    "    a=10\n",
    "    def __init__(self):\n",
    "        Test.b=20\n",
    "\n",
    "    def m1(self):\n",
    "        Test.c='Salma Hayek'\n",
    "\n",
    "    @classmethod\n",
    "    def m2(cls):\n",
    "        Test.d='Penelope Cruz'\n",
    "        cls.e='Mila Kunis'\n",
    "\n",
    "    @staticmethod\n",
    "    def m3():\n",
    "        Test.f='Megan Fox'\n",
    "\n",
    "t=Test()\n",
    "t.m1()\n",
    "Test.m2()\n",
    "Test.m3()\n",
    "Test.g='Joe Saldana'\n",
    "print(Test.__dict__)"
   ]
  },
  {
   "cell_type": "code",
   "execution_count": null,
   "metadata": {},
   "outputs": [],
   "source": [
    "'''How to access the static variables\n",
    "1) We can access static variables either by self,class name, cls or object reference. \n",
    "But prefer to use the classname'''"
   ]
  },
  {
   "cell_type": "code",
   "execution_count": 55,
   "metadata": {},
   "outputs": [
    {
     "name": "stdout",
     "output_type": "stream",
     "text": [
      "10\n",
      "10\n",
      "10\n",
      "10\n",
      "10\n",
      "10\n",
      "10\n",
      "10\n",
      "10\n"
     ]
    }
   ],
   "source": [
    "class Test:\n",
    "    a=10\n",
    "    def __init__(self):\n",
    "        print(self.a)\n",
    "        print(Test.a)\n",
    "\n",
    "    def m1(self):\n",
    "        print(self.a)\n",
    "        print(Test.a)\n",
    "\n",
    "    @classmethod\n",
    "    def m2(cls):\n",
    "        print(cls.a)\n",
    "        print(Test.a)\n",
    "    \n",
    "    @staticmethod\n",
    "    def m3():\n",
    "        print(Test.a)\n",
    "\n",
    "t=Test()\n",
    "t.m1()\n",
    "Test.m2()\n",
    "Test.m3()\n",
    "print(Test.a)\n",
    "print(t.a)"
   ]
  },
  {
   "cell_type": "code",
   "execution_count": null,
   "metadata": {},
   "outputs": [],
   "source": [
    "'''how to update the static variables\n",
    "We can update static variables either by using class name or cls\n",
    "We cannot use self or object reference to update static variables'''"
   ]
  },
  {
   "cell_type": "code",
   "execution_count": 57,
   "metadata": {},
   "outputs": [
    {
     "name": "stdout",
     "output_type": "stream",
     "text": [
      "30\n"
     ]
    }
   ],
   "source": [
    "class Test:\n",
    "    a=10\n",
    "\n",
    "    @classmethod\n",
    "    def m1(cls):\n",
    "        cls.a=20\n",
    "\n",
    "    @staticmethod\n",
    "    def m2():\n",
    "        Test.a=30\n",
    "\n",
    "t=Test()\n",
    "Test.m1()\n",
    "Test.m2()\n",
    "print(Test.a)"
   ]
  },
  {
   "cell_type": "code",
   "execution_count": 60,
   "metadata": {},
   "outputs": [
    {
     "name": "stdout",
     "output_type": "stream",
     "text": [
      "10\n"
     ]
    }
   ],
   "source": [
    "class Test:\n",
    "    a=10\n",
    "\n",
    "    def m1(self):\n",
    "        self.b=888\n",
    "\n",
    "t=Test()\n",
    "t.m1()\n",
    "#print(Test.a)\n",
    "print(t.a)"
   ]
  },
  {
   "cell_type": "code",
   "execution_count": 64,
   "metadata": {},
   "outputs": [
    {
     "name": "stdout",
     "output_type": "stream",
     "text": [
      "t1: 10 20\n",
      "t2: 10 20\n",
      "t1: 10 999\n",
      "t2: 10 20\n"
     ]
    }
   ],
   "source": [
    "class Test:\n",
    "    x=10\n",
    "\n",
    "    def __init__(self):\n",
    "        self.y=20\n",
    "\n",
    "t1=Test()\n",
    "t2=Test()\n",
    "print('t1:',t1.x,t1.y)\n",
    "print('t2:',t2.x,t2.y)\n",
    "t1.x=888\n",
    "t1.y=999\n",
    "print('t1:',Test.x,t1.y)\n",
    "print('t2:',t2.x,t2.y)"
   ]
  },
  {
   "cell_type": "code",
   "execution_count": 65,
   "metadata": {},
   "outputs": [
    {
     "name": "stdout",
     "output_type": "stream",
     "text": [
      "t1: 888 999\n",
      "t2: 10 20\n"
     ]
    }
   ],
   "source": [
    "class Test:\n",
    "    x=10\n",
    "\n",
    "    def __init__(self):\n",
    "        self.y=20\n",
    "\n",
    "    def m1(self):\n",
    "        self.x=888\n",
    "        self.y=999\n",
    "\n",
    "t1=Test()\n",
    "t2=Test()\n",
    "t1.m1()\n",
    "print('t1:',t1.x,t1.y)\n",
    "print('t2:',t2.x,t2.y)"
   ]
  },
  {
   "cell_type": "code",
   "execution_count": 66,
   "metadata": {},
   "outputs": [
    {
     "name": "stdout",
     "output_type": "stream",
     "text": [
      "t1: 888 20\n",
      "t2: 888 20\n"
     ]
    }
   ],
   "source": [
    "class Test:\n",
    "    x=10\n",
    "\n",
    "    def __init__(self):\n",
    "        self.y=20\n",
    "\n",
    "    def m1(self):\n",
    "        self.x=888\n",
    "        self.y=999\n",
    "\n",
    "    @classmethod\n",
    "    def m2(cls):\n",
    "        cls.x=888\n",
    "        cls.y=999\n",
    "\n",
    "t1=Test()\n",
    "t2=Test()\n",
    "Test.m2()\n",
    "print('t1:',t1.x,t1.y)\n",
    "print('t2:',t2.x,t2.y)"
   ]
  },
  {
   "cell_type": "code",
   "execution_count": 67,
   "metadata": {},
   "outputs": [
    {
     "name": "stdout",
     "output_type": "stream",
     "text": [
      "t1: 888 20\n",
      "t2: 888 999\n"
     ]
    }
   ],
   "source": [
    "class Test:\n",
    "    x=10\n",
    "\n",
    "    def __init__(self):\n",
    "        self.y=20\n",
    "\n",
    "    def m1(self):\n",
    "        self.x=888\n",
    "        self.y=999\n",
    "\n",
    "    @classmethod\n",
    "    def m2(cls):\n",
    "        cls.x=888\n",
    "        cls.y=999\n",
    "\n",
    "t1=Test()\n",
    "t2=Test()\n",
    "Test.m2()\n",
    "print('t1:',t1.x,t1.y)\n",
    "print('t2:',t2.x,Test.y)"
   ]
  },
  {
   "cell_type": "code",
   "execution_count": null,
   "metadata": {},
   "outputs": [],
   "source": [
    "'''how to delete static variables\n",
    "Anywhere : del classname.variablename\n",
    "classmethod : del cls.variablename'''"
   ]
  },
  {
   "cell_type": "code",
   "execution_count": 68,
   "metadata": {},
   "outputs": [
    {
     "name": "stdout",
     "output_type": "stream",
     "text": [
      "{'__module__': '__main__', 'm1': <classmethod(<function Test.m1 at 0x10adfdc60>)>, '__dict__': <attribute '__dict__' of 'Test' objects>, '__weakref__': <attribute '__weakref__' of 'Test' objects>, '__doc__': None}\n"
     ]
    }
   ],
   "source": [
    "class Test:\n",
    "    a=10\n",
    "    @classmethod\n",
    "    def m1(cls):\n",
    "        del cls.a\n",
    "\n",
    "Test.m1()\n",
    "print(Test.__dict__)"
   ]
  },
  {
   "cell_type": "code",
   "execution_count": 72,
   "metadata": {},
   "outputs": [
    {
     "name": "stdout",
     "output_type": "stream",
     "text": [
      "{'__module__': '__main__', '__init__': <function Test.__init__ at 0x10ad9d9e0>, 'm1': <function Test.m1 at 0x10ad9e660>, 'm2': <classmethod(<function Test.m2 at 0x10ad9f560>)>, 'm3': <staticmethod(<function Test.m3 at 0x10ad9e520>)>, '__dict__': <attribute '__dict__' of 'Test' objects>, '__weakref__': <attribute '__weakref__' of 'Test' objects>, '__doc__': None, 'd': 40, 'f': 60}\n"
     ]
    }
   ],
   "source": [
    "class Test:\n",
    "    a=10\n",
    "    def __init__(self):\n",
    "        Test.b=20\n",
    "        del Test.a\n",
    "\n",
    "    def m1(self):\n",
    "        Test.c=30\n",
    "        del Test.b\n",
    "\n",
    "    @classmethod\n",
    "    def m2(cls):\n",
    "        cls.d=40\n",
    "        Test.e=50\n",
    "        del Test.c\n",
    "\n",
    "    @staticmethod\n",
    "    def m3():\n",
    "        Test.f=60\n",
    "        del Test.e\n",
    "\n",
    "t=Test()\n",
    "t.m1()\n",
    "Test.m2()\n",
    "Test.m3()\n",
    "print(Test.__dict__)"
   ]
  },
  {
   "cell_type": "code",
   "execution_count": null,
   "metadata": {},
   "outputs": [],
   "source": []
  }
 ],
 "metadata": {
  "kernelspec": {
   "display_name": "Python 3",
   "language": "python",
   "name": "python3"
  },
  "language_info": {
   "codemirror_mode": {
    "name": "ipython",
    "version": 3
   },
   "file_extension": ".py",
   "mimetype": "text/x-python",
   "name": "python",
   "nbconvert_exporter": "python",
   "pygments_lexer": "ipython3",
   "version": "3.12.2"
  }
 },
 "nbformat": 4,
 "nbformat_minor": 2
}
