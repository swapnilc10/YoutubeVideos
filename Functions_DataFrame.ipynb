{
 "cells": [
  {
   "cell_type": "code",
   "execution_count": 123,
   "metadata": {},
   "outputs": [],
   "source": [
    "import pandas as pd\n",
    "import numpy as np"
   ]
  },
  {
   "cell_type": "code",
   "execution_count": 129,
   "metadata": {},
   "outputs": [],
   "source": [
    "# Sample data\n",
    "Name = ['Megan', 'Salma', 'Cameron Diaz','Scarlet']\n",
    "Age = [25, 30, 35,32]\n",
    "Movie = ['Transformers', 'Desperado', 'Charlie Angels','Avengers']"
   ]
  },
  {
   "cell_type": "code",
   "execution_count": null,
   "metadata": {},
   "outputs": [],
   "source": [
    "Name = ['Megan', 'Salma', 'Cameron Diaz','Scarlett','Megan','Scarlett','Scarlett']\n",
    "Movie = ['Transformers', 'Desperado', 'Charlie Angels','Avengers','Transformers2','Avengers2','Avengers3']"
   ]
  },
  {
   "cell_type": "code",
   "execution_count": 130,
   "metadata": {},
   "outputs": [
    {
     "name": "stdout",
     "output_type": "stream",
     "text": [
      "<zip object at 0x13ab0e500>\n",
      "<class 'zip'>\n",
      "[('Megan', 25, 'Transformers'), ('Salma', 30, 'Desperado'), ('Cameron Diaz', 35, 'Charlie Angels'), ('Scarlet', 32, 'Avengers'), ('Megan', 42, 'Transformers2')]\n"
     ]
    }
   ],
   "source": [
    "\"\"\"Zip\"\"\"\n",
    "#zip(iterable1,iterable2,iterable3)\n",
    "#zip object\n",
    "\n",
    "data=zip(Name,Age,Movie)\n",
    "print(data)\n",
    "print(type(data))\n",
    "\n",
    "print(list(data))"
   ]
  },
  {
   "cell_type": "code",
   "execution_count": 131,
   "metadata": {},
   "outputs": [
    {
     "data": {
      "text/html": [
       "<div>\n",
       "<style scoped>\n",
       "    .dataframe tbody tr th:only-of-type {\n",
       "        vertical-align: middle;\n",
       "    }\n",
       "\n",
       "    .dataframe tbody tr th {\n",
       "        vertical-align: top;\n",
       "    }\n",
       "\n",
       "    .dataframe thead th {\n",
       "        text-align: right;\n",
       "    }\n",
       "</style>\n",
       "<table border=\"1\" class=\"dataframe\">\n",
       "  <thead>\n",
       "    <tr style=\"text-align: right;\">\n",
       "      <th></th>\n",
       "      <th>Name</th>\n",
       "      <th>Age</th>\n",
       "      <th>Movie</th>\n",
       "    </tr>\n",
       "  </thead>\n",
       "  <tbody>\n",
       "    <tr>\n",
       "      <th>0</th>\n",
       "      <td>Megan</td>\n",
       "      <td>25</td>\n",
       "      <td>Transformers</td>\n",
       "    </tr>\n",
       "    <tr>\n",
       "      <th>1</th>\n",
       "      <td>Salma</td>\n",
       "      <td>30</td>\n",
       "      <td>Desperado</td>\n",
       "    </tr>\n",
       "    <tr>\n",
       "      <th>2</th>\n",
       "      <td>Cameron Diaz</td>\n",
       "      <td>35</td>\n",
       "      <td>Charlie Angels</td>\n",
       "    </tr>\n",
       "    <tr>\n",
       "      <th>3</th>\n",
       "      <td>Scarlet</td>\n",
       "      <td>32</td>\n",
       "      <td>Avengers</td>\n",
       "    </tr>\n",
       "    <tr>\n",
       "      <th>4</th>\n",
       "      <td>Megan</td>\n",
       "      <td>42</td>\n",
       "      <td>Transformers2</td>\n",
       "    </tr>\n",
       "  </tbody>\n",
       "</table>\n",
       "</div>"
      ],
      "text/plain": [
       "           Name  Age           Movie\n",
       "0         Megan   25    Transformers\n",
       "1         Salma   30       Desperado\n",
       "2  Cameron Diaz   35  Charlie Angels\n",
       "3       Scarlet   32        Avengers\n",
       "4         Megan   42   Transformers2"
      ]
     },
     "execution_count": 131,
     "metadata": {},
     "output_type": "execute_result"
    }
   ],
   "source": [
    "data=list(zip(Name,Age,Movie))\n",
    "df=pd.DataFrame(data,columns=['Name','Age','Movie'])\n",
    "df"
   ]
  },
  {
   "cell_type": "code",
   "execution_count": 133,
   "metadata": {},
   "outputs": [
    {
     "name": "stdout",
     "output_type": "stream",
     "text": [
      "Megan has worked in Transformers and is 25 years old\n",
      "Salma has worked in Desperado and is 30 years old\n",
      "Cameron Diaz has worked in Charlie Angels and is 35 years old\n",
      "Scarlet has worked in Avengers and is 32 years old\n",
      "Megan has worked in Transformers2 and is 42 years old\n"
     ]
    }
   ],
   "source": [
    "for a,b,c in zip(df['Name'], df['Movie'],df['Age']):\n",
    "    print(f\"{a} has worked in {b} and is {c} years old\")"
   ]
  },
  {
   "cell_type": "code",
   "execution_count": 134,
   "metadata": {},
   "outputs": [
    {
     "name": "stdout",
     "output_type": "stream",
     "text": [
      "{'Megan': 'Transformers2', 'Salma': 'Desperado', 'Cameron Diaz': 'Charlie Angels', 'Scarlet': 'Avengers'}\n"
     ]
    }
   ],
   "source": [
    "my_dict={}\n",
    "for name, movie in zip(df['Name'],df['Movie']):\n",
    "    my_dict[name]=movie\n",
    "\n",
    "print(my_dict)"
   ]
  },
  {
   "cell_type": "code",
   "execution_count": 135,
   "metadata": {},
   "outputs": [
    {
     "name": "stdout",
     "output_type": "stream",
     "text": [
      "{'Megan': ['Transformers', 'Transformers2'], 'Salma': ['Desperado'], 'Cameron Diaz': ['Charlie Angels'], 'Scarlet': ['Avengers']}\n"
     ]
    }
   ],
   "source": [
    "my_dict={}\n",
    "for name, movie in zip(df['Name'],df['Movie']):\n",
    "    if name in my_dict:\n",
    "        my_dict[name].append(movie)\n",
    "    else:\n",
    "        my_dict[name]=[movie]\n",
    "\n",
    "print(my_dict)"
   ]
  },
  {
   "cell_type": "code",
   "execution_count": null,
   "metadata": {},
   "outputs": [],
   "source": [
    "\"\"\"Enumerate\"\"\"\n",
    "#used it with iterables like list, tuple\n",
    "#when we need both index and the corresponding element"
   ]
  },
  {
   "cell_type": "code",
   "execution_count": 136,
   "metadata": {},
   "outputs": [
    {
     "name": "stdout",
     "output_type": "stream",
     "text": [
      "0 value is Megan\n",
      "1 value is Salma\n",
      "2 value is Cameron Diaz\n",
      "3 value is Scarlet\n",
      "4 value is Megan Fox\n"
     ]
    }
   ],
   "source": [
    "Name = ['Megan', 'Salma', 'Cameron Diaz','Scarlet','Megan Fox']\n",
    "\n",
    "for index, element in enumerate(Name):\n",
    "    print(f'{index} value is {element}')"
   ]
  },
  {
   "cell_type": "code",
   "execution_count": 137,
   "metadata": {},
   "outputs": [
    {
     "name": "stderr",
     "output_type": "stream",
     "text": [
      "/var/folders/2b/zl_96rss51b7s3f624fmp24m0000gn/T/ipykernel_14292/3618946741.py:3: SettingWithCopyWarning: \n",
      "A value is trying to be set on a copy of a slice from a DataFrame\n",
      "\n",
      "See the caveats in the documentation: https://pandas.pydata.org/pandas-docs/stable/user_guide/indexing.html#returning-a-view-versus-a-copy\n",
      "  x[index]=age*2\n",
      "/var/folders/2b/zl_96rss51b7s3f624fmp24m0000gn/T/ipykernel_14292/3618946741.py:3: SettingWithCopyWarning: \n",
      "A value is trying to be set on a copy of a slice from a DataFrame\n",
      "\n",
      "See the caveats in the documentation: https://pandas.pydata.org/pandas-docs/stable/user_guide/indexing.html#returning-a-view-versus-a-copy\n",
      "  x[index]=age*2\n",
      "/var/folders/2b/zl_96rss51b7s3f624fmp24m0000gn/T/ipykernel_14292/3618946741.py:3: SettingWithCopyWarning: \n",
      "A value is trying to be set on a copy of a slice from a DataFrame\n",
      "\n",
      "See the caveats in the documentation: https://pandas.pydata.org/pandas-docs/stable/user_guide/indexing.html#returning-a-view-versus-a-copy\n",
      "  x[index]=age*2\n",
      "/var/folders/2b/zl_96rss51b7s3f624fmp24m0000gn/T/ipykernel_14292/3618946741.py:3: SettingWithCopyWarning: \n",
      "A value is trying to be set on a copy of a slice from a DataFrame\n",
      "\n",
      "See the caveats in the documentation: https://pandas.pydata.org/pandas-docs/stable/user_guide/indexing.html#returning-a-view-versus-a-copy\n",
      "  x[index]=age*2\n",
      "/var/folders/2b/zl_96rss51b7s3f624fmp24m0000gn/T/ipykernel_14292/3618946741.py:3: SettingWithCopyWarning: \n",
      "A value is trying to be set on a copy of a slice from a DataFrame\n",
      "\n",
      "See the caveats in the documentation: https://pandas.pydata.org/pandas-docs/stable/user_guide/indexing.html#returning-a-view-versus-a-copy\n",
      "  x[index]=age*2\n"
     ]
    },
    {
     "data": {
      "text/plain": [
       "0    50\n",
       "1    60\n",
       "2    70\n",
       "3    64\n",
       "4    84\n",
       "Name: Age, dtype: int64"
      ]
     },
     "execution_count": 137,
     "metadata": {},
     "output_type": "execute_result"
    }
   ],
   "source": [
    "def double_age(x):\n",
    "    for index, age in enumerate(x):\n",
    "        x[index]=age*2\n",
    "\n",
    "    return x\n",
    "\n",
    "\n",
    "double_age(df['Age'])\n"
   ]
  },
  {
   "cell_type": "code",
   "execution_count": null,
   "metadata": {},
   "outputs": [],
   "source": [
    "\"\"\"Isinstance\"\"\"\n",
    "#syntax isinstace(obj,(subclass,subclass1,subclass2))"
   ]
  },
  {
   "cell_type": "code",
   "execution_count": 142,
   "metadata": {},
   "outputs": [
    {
     "name": "stdout",
     "output_type": "stream",
     "text": [
      "Helloooooo is not integer\n"
     ]
    }
   ],
   "source": [
    "x='Helloooooo'\n",
    "\n",
    "if isinstance(x, (int,float)):\n",
    "    print(f\"{x} is integer/float\")\n",
    "else:\n",
    "    print(f\"{x} is not integer\")"
   ]
  },
  {
   "cell_type": "code",
   "execution_count": 143,
   "metadata": {},
   "outputs": [
    {
     "data": {
      "text/html": [
       "<div>\n",
       "<style scoped>\n",
       "    .dataframe tbody tr th:only-of-type {\n",
       "        vertical-align: middle;\n",
       "    }\n",
       "\n",
       "    .dataframe tbody tr th {\n",
       "        vertical-align: top;\n",
       "    }\n",
       "\n",
       "    .dataframe thead th {\n",
       "        text-align: right;\n",
       "    }\n",
       "</style>\n",
       "<table border=\"1\" class=\"dataframe\">\n",
       "  <thead>\n",
       "    <tr style=\"text-align: right;\">\n",
       "      <th></th>\n",
       "      <th>Name</th>\n",
       "      <th>Age</th>\n",
       "      <th>Movie</th>\n",
       "    </tr>\n",
       "  </thead>\n",
       "  <tbody>\n",
       "    <tr>\n",
       "      <th>0</th>\n",
       "      <td>Megan</td>\n",
       "      <td>25</td>\n",
       "      <td>Transformers</td>\n",
       "    </tr>\n",
       "    <tr>\n",
       "      <th>1</th>\n",
       "      <td>Salma</td>\n",
       "      <td>30</td>\n",
       "      <td>Desperado</td>\n",
       "    </tr>\n",
       "    <tr>\n",
       "      <th>2</th>\n",
       "      <td>Cameron Diaz</td>\n",
       "      <td>35</td>\n",
       "      <td>Charlie Angels</td>\n",
       "    </tr>\n",
       "    <tr>\n",
       "      <th>3</th>\n",
       "      <td>Scarlet</td>\n",
       "      <td>32</td>\n",
       "      <td>Avengers</td>\n",
       "    </tr>\n",
       "  </tbody>\n",
       "</table>\n",
       "</div>"
      ],
      "text/plain": [
       "           Name Age           Movie\n",
       "0         Megan  25    Transformers\n",
       "1         Salma  30       Desperado\n",
       "2  Cameron Diaz  35  Charlie Angels\n",
       "3       Scarlet  32        Avengers"
      ]
     },
     "execution_count": 143,
     "metadata": {},
     "output_type": "execute_result"
    }
   ],
   "source": [
    "Name = ['Megan', 'Salma', 'Cameron Diaz','Scarlet','Megan']\n",
    "Age = [25, 30, 35,32,'twenty five']\n",
    "Movie = ['Transformers', 'Desperado', 'Charlie Angels','Avengers','Transformers2']\n",
    "\n",
    "data=list(zip(Name,Age,Movie))\n",
    "#dataframe\n",
    "df=pd.DataFrame(data,columns=['Name','Age','Movie'])\n",
    "\n",
    "\n",
    "\n",
    "numeric_age=df[df['Age'].apply(lambda x: isinstance(x,(int,float)))]\n",
    "\n",
    "numeric_age"
   ]
  },
  {
   "cell_type": "code",
   "execution_count": 145,
   "metadata": {},
   "outputs": [
    {
     "data": {
      "text/plain": [
       "['SWAP']"
      ]
     },
     "execution_count": 145,
     "metadata": {},
     "output_type": "execute_result"
    }
   ],
   "source": [
    "l = [10, 20, 'swap', '40']  #isalpha and string\n",
    "l1=[]\n",
    "for element in l:\n",
    "    if isinstance(element, str) and element.isalpha():\n",
    "        element=element.upper()\n",
    "        l1.append(element)\n",
    "\n",
    "l1"
   ]
  },
  {
   "cell_type": "code",
   "execution_count": 146,
   "metadata": {},
   "outputs": [],
   "source": [
    "\"\"\"df.at\"\"\"\n",
    "Name = ['Megan', 'Salma', 'Cameron Diaz','Scarlet','Megan']\n",
    "Age = [25, 30, 35,32,'twenty five']\n",
    "Movie = ['Transformers', 'Desperado', 'Charlie Angels','Avengers','Transformers2']\n",
    "\n",
    "data=list(zip(Name,Age,Movie))\n",
    "#dataframe\n",
    "df=pd.DataFrame(data,columns=['Name','Age','Movie'])"
   ]
  },
  {
   "cell_type": "code",
   "execution_count": 147,
   "metadata": {},
   "outputs": [
    {
     "data": {
      "text/html": [
       "<div>\n",
       "<style scoped>\n",
       "    .dataframe tbody tr th:only-of-type {\n",
       "        vertical-align: middle;\n",
       "    }\n",
       "\n",
       "    .dataframe tbody tr th {\n",
       "        vertical-align: top;\n",
       "    }\n",
       "\n",
       "    .dataframe thead th {\n",
       "        text-align: right;\n",
       "    }\n",
       "</style>\n",
       "<table border=\"1\" class=\"dataframe\">\n",
       "  <thead>\n",
       "    <tr style=\"text-align: right;\">\n",
       "      <th></th>\n",
       "      <th>Name</th>\n",
       "      <th>Age</th>\n",
       "      <th>Movie</th>\n",
       "    </tr>\n",
       "  </thead>\n",
       "  <tbody>\n",
       "    <tr>\n",
       "      <th>0</th>\n",
       "      <td>Megan</td>\n",
       "      <td>25</td>\n",
       "      <td>Transformers</td>\n",
       "    </tr>\n",
       "    <tr>\n",
       "      <th>1</th>\n",
       "      <td>Salma</td>\n",
       "      <td>30</td>\n",
       "      <td>Desperado</td>\n",
       "    </tr>\n",
       "    <tr>\n",
       "      <th>2</th>\n",
       "      <td>Cameron Diaz</td>\n",
       "      <td>35</td>\n",
       "      <td>Charlie Angels</td>\n",
       "    </tr>\n",
       "    <tr>\n",
       "      <th>3</th>\n",
       "      <td>Scarlet</td>\n",
       "      <td>32</td>\n",
       "      <td>Avengers</td>\n",
       "    </tr>\n",
       "    <tr>\n",
       "      <th>4</th>\n",
       "      <td>Megan</td>\n",
       "      <td>twenty five</td>\n",
       "      <td>Transformers2</td>\n",
       "    </tr>\n",
       "  </tbody>\n",
       "</table>\n",
       "</div>"
      ],
      "text/plain": [
       "           Name          Age           Movie\n",
       "0         Megan           25    Transformers\n",
       "1         Salma           30       Desperado\n",
       "2  Cameron Diaz           35  Charlie Angels\n",
       "3       Scarlet           32        Avengers\n",
       "4         Megan  twenty five   Transformers2"
      ]
     },
     "execution_count": 147,
     "metadata": {},
     "output_type": "execute_result"
    }
   ],
   "source": [
    "df"
   ]
  },
  {
   "cell_type": "code",
   "execution_count": 148,
   "metadata": {},
   "outputs": [
    {
     "data": {
      "text/plain": [
       "'Cameron Diaz'"
      ]
     },
     "execution_count": 148,
     "metadata": {},
     "output_type": "execute_result"
    }
   ],
   "source": [
    "df.at[2,'Name']"
   ]
  },
  {
   "cell_type": "code",
   "execution_count": 151,
   "metadata": {},
   "outputs": [
    {
     "data": {
      "text/html": [
       "<div>\n",
       "<style scoped>\n",
       "    .dataframe tbody tr th:only-of-type {\n",
       "        vertical-align: middle;\n",
       "    }\n",
       "\n",
       "    .dataframe tbody tr th {\n",
       "        vertical-align: top;\n",
       "    }\n",
       "\n",
       "    .dataframe thead th {\n",
       "        text-align: right;\n",
       "    }\n",
       "</style>\n",
       "<table border=\"1\" class=\"dataframe\">\n",
       "  <thead>\n",
       "    <tr style=\"text-align: right;\">\n",
       "      <th></th>\n",
       "      <th>Name</th>\n",
       "      <th>Age</th>\n",
       "      <th>Movie</th>\n",
       "    </tr>\n",
       "  </thead>\n",
       "  <tbody>\n",
       "    <tr>\n",
       "      <th>0</th>\n",
       "      <td>Megan</td>\n",
       "      <td>25</td>\n",
       "      <td>Transformers</td>\n",
       "    </tr>\n",
       "    <tr>\n",
       "      <th>1</th>\n",
       "      <td>Salma</td>\n",
       "      <td>30</td>\n",
       "      <td>Desperado</td>\n",
       "    </tr>\n",
       "    <tr>\n",
       "      <th>2</th>\n",
       "      <td>Cameron Diaz</td>\n",
       "      <td>35</td>\n",
       "      <td>Charlie Angels</td>\n",
       "    </tr>\n",
       "    <tr>\n",
       "      <th>3</th>\n",
       "      <td>Scarlet</td>\n",
       "      <td>32</td>\n",
       "      <td>Avengers</td>\n",
       "    </tr>\n",
       "    <tr>\n",
       "      <th>4</th>\n",
       "      <td>Megan</td>\n",
       "      <td>26</td>\n",
       "      <td>Transformers2</td>\n",
       "    </tr>\n",
       "  </tbody>\n",
       "</table>\n",
       "</div>"
      ],
      "text/plain": [
       "           Name Age           Movie\n",
       "0         Megan  25    Transformers\n",
       "1         Salma  30       Desperado\n",
       "2  Cameron Diaz  35  Charlie Angels\n",
       "3       Scarlet  32        Avengers\n",
       "4         Megan  26   Transformers2"
      ]
     },
     "execution_count": 151,
     "metadata": {},
     "output_type": "execute_result"
    }
   ],
   "source": [
    "df.at[4,'Age']= 26\n",
    "df"
   ]
  },
  {
   "cell_type": "code",
   "execution_count": 156,
   "metadata": {},
   "outputs": [
    {
     "data": {
      "text/html": [
       "<div>\n",
       "<style scoped>\n",
       "    .dataframe tbody tr th:only-of-type {\n",
       "        vertical-align: middle;\n",
       "    }\n",
       "\n",
       "    .dataframe tbody tr th {\n",
       "        vertical-align: top;\n",
       "    }\n",
       "\n",
       "    .dataframe thead th {\n",
       "        text-align: right;\n",
       "    }\n",
       "</style>\n",
       "<table border=\"1\" class=\"dataframe\">\n",
       "  <thead>\n",
       "    <tr style=\"text-align: right;\">\n",
       "      <th></th>\n",
       "      <th>Column1</th>\n",
       "      <th>Column2</th>\n",
       "    </tr>\n",
       "  </thead>\n",
       "  <tbody>\n",
       "    <tr>\n",
       "      <th>0</th>\n",
       "      <td>1</td>\n",
       "      <td>10</td>\n",
       "    </tr>\n",
       "    <tr>\n",
       "      <th>1</th>\n",
       "      <td>2</td>\n",
       "      <td>20</td>\n",
       "    </tr>\n",
       "    <tr>\n",
       "      <th>2</th>\n",
       "      <td>3</td>\n",
       "      <td>30</td>\n",
       "    </tr>\n",
       "    <tr>\n",
       "      <th>3</th>\n",
       "      <td>4</td>\n",
       "      <td>40</td>\n",
       "    </tr>\n",
       "    <tr>\n",
       "      <th>4</th>\n",
       "      <td>5</td>\n",
       "      <td>50</td>\n",
       "    </tr>\n",
       "  </tbody>\n",
       "</table>\n",
       "</div>"
      ],
      "text/plain": [
       "   Column1  Column2\n",
       "0        1       10\n",
       "1        2       20\n",
       "2        3       30\n",
       "3        4       40\n",
       "4        5       50"
      ]
     },
     "execution_count": 156,
     "metadata": {},
     "output_type": "execute_result"
    }
   ],
   "source": [
    "\"\"\"df.apply\"\"\"\n",
    "\n",
    "\n",
    "data = {\n",
    "    'Column1': [1, 2, 3, 4, 5],\n",
    "    'Column2': [10, 20, 30, 40, 50]\n",
    "}\n",
    "\n",
    "df = pd.DataFrame(data)\n",
    "\n",
    "df\n"
   ]
  },
  {
   "cell_type": "code",
   "execution_count": 155,
   "metadata": {},
   "outputs": [
    {
     "data": {
      "text/plain": [
       "Column1     15\n",
       "Column2    150\n",
       "dtype: int64"
      ]
     },
     "execution_count": 155,
     "metadata": {},
     "output_type": "execute_result"
    }
   ],
   "source": [
    "def sum_row(x):\n",
    "    return x.sum()\n",
    "\n",
    "result_rows=df.apply(sum_row,axis=0)\n",
    "result_rows"
   ]
  },
  {
   "cell_type": "code",
   "execution_count": 157,
   "metadata": {},
   "outputs": [
    {
     "data": {
      "text/plain": [
       "0     10\n",
       "1     40\n",
       "2     90\n",
       "3    160\n",
       "4    250\n",
       "dtype: int64"
      ]
     },
     "execution_count": 157,
     "metadata": {},
     "output_type": "execute_result"
    }
   ],
   "source": [
    "def multiply_col(x):\n",
    "    return x.prod()\n",
    "\n",
    "result_cols=df.apply(multiply_col,axis=1)\n",
    "result_cols"
   ]
  },
  {
   "cell_type": "code",
   "execution_count": 152,
   "metadata": {},
   "outputs": [
    {
     "data": {
      "text/html": [
       "<div>\n",
       "<style scoped>\n",
       "    .dataframe tbody tr th:only-of-type {\n",
       "        vertical-align: middle;\n",
       "    }\n",
       "\n",
       "    .dataframe tbody tr th {\n",
       "        vertical-align: top;\n",
       "    }\n",
       "\n",
       "    .dataframe thead th {\n",
       "        text-align: right;\n",
       "    }\n",
       "</style>\n",
       "<table border=\"1\" class=\"dataframe\">\n",
       "  <thead>\n",
       "    <tr style=\"text-align: right;\">\n",
       "      <th></th>\n",
       "      <th>Name</th>\n",
       "      <th>Age</th>\n",
       "      <th>Movie</th>\n",
       "    </tr>\n",
       "  </thead>\n",
       "  <tbody>\n",
       "    <tr>\n",
       "      <th>0</th>\n",
       "      <td>Megan</td>\n",
       "      <td>25</td>\n",
       "      <td>Transformers</td>\n",
       "    </tr>\n",
       "    <tr>\n",
       "      <th>1</th>\n",
       "      <td>Salma</td>\n",
       "      <td>30</td>\n",
       "      <td>Desperado</td>\n",
       "    </tr>\n",
       "    <tr>\n",
       "      <th>2</th>\n",
       "      <td>Cameron Diaz</td>\n",
       "      <td>35</td>\n",
       "      <td>Charlie Angels</td>\n",
       "    </tr>\n",
       "    <tr>\n",
       "      <th>3</th>\n",
       "      <td>Scarlet</td>\n",
       "      <td>32</td>\n",
       "      <td>Avengers</td>\n",
       "    </tr>\n",
       "    <tr>\n",
       "      <th>4</th>\n",
       "      <td>Megan</td>\n",
       "      <td>26</td>\n",
       "      <td>Transformers2</td>\n",
       "    </tr>\n",
       "  </tbody>\n",
       "</table>\n",
       "</div>"
      ],
      "text/plain": [
       "           Name Age           Movie\n",
       "0         Megan  25    Transformers\n",
       "1         Salma  30       Desperado\n",
       "2  Cameron Diaz  35  Charlie Angels\n",
       "3       Scarlet  32        Avengers\n",
       "4         Megan  26   Transformers2"
      ]
     },
     "execution_count": 152,
     "metadata": {},
     "output_type": "execute_result"
    }
   ],
   "source": [
    "df"
   ]
  },
  {
   "cell_type": "code",
   "execution_count": 153,
   "metadata": {},
   "outputs": [
    {
     "data": {
      "text/html": [
       "<div>\n",
       "<style scoped>\n",
       "    .dataframe tbody tr th:only-of-type {\n",
       "        vertical-align: middle;\n",
       "    }\n",
       "\n",
       "    .dataframe tbody tr th {\n",
       "        vertical-align: top;\n",
       "    }\n",
       "\n",
       "    .dataframe thead th {\n",
       "        text-align: right;\n",
       "    }\n",
       "</style>\n",
       "<table border=\"1\" class=\"dataframe\">\n",
       "  <thead>\n",
       "    <tr style=\"text-align: right;\">\n",
       "      <th></th>\n",
       "      <th>Name</th>\n",
       "      <th>Age</th>\n",
       "      <th>Movie</th>\n",
       "      <th>Modified_Age</th>\n",
       "    </tr>\n",
       "  </thead>\n",
       "  <tbody>\n",
       "    <tr>\n",
       "      <th>0</th>\n",
       "      <td>Megan</td>\n",
       "      <td>25</td>\n",
       "      <td>Transformers</td>\n",
       "      <td>22.5</td>\n",
       "    </tr>\n",
       "    <tr>\n",
       "      <th>1</th>\n",
       "      <td>Salma</td>\n",
       "      <td>30</td>\n",
       "      <td>Desperado</td>\n",
       "      <td>33.0</td>\n",
       "    </tr>\n",
       "    <tr>\n",
       "      <th>2</th>\n",
       "      <td>Cameron Diaz</td>\n",
       "      <td>35</td>\n",
       "      <td>Charlie Angels</td>\n",
       "      <td>38.5</td>\n",
       "    </tr>\n",
       "    <tr>\n",
       "      <th>3</th>\n",
       "      <td>Scarlet</td>\n",
       "      <td>32</td>\n",
       "      <td>Avengers</td>\n",
       "      <td>35.2</td>\n",
       "    </tr>\n",
       "    <tr>\n",
       "      <th>4</th>\n",
       "      <td>Megan</td>\n",
       "      <td>26</td>\n",
       "      <td>Transformers2</td>\n",
       "      <td>23.4</td>\n",
       "    </tr>\n",
       "  </tbody>\n",
       "</table>\n",
       "</div>"
      ],
      "text/plain": [
       "           Name Age           Movie  Modified_Age\n",
       "0         Megan  25    Transformers          22.5\n",
       "1         Salma  30       Desperado          33.0\n",
       "2  Cameron Diaz  35  Charlie Angels          38.5\n",
       "3       Scarlet  32        Avengers          35.2\n",
       "4         Megan  26   Transformers2          23.4"
      ]
     },
     "execution_count": 153,
     "metadata": {},
     "output_type": "execute_result"
    }
   ],
   "source": [
    "def age_modify(x):\n",
    "    if x<30:\n",
    "        return x*0.9\n",
    "    else:\n",
    "        return x*1.1\n",
    "\n",
    "\n",
    "df['Modified_Age']=df['Age'].apply(age_modify)\n",
    "df"
   ]
  },
  {
   "cell_type": "code",
   "execution_count": 158,
   "metadata": {},
   "outputs": [],
   "source": [
    "\"\"\"df.applymap(func)\"\"\"\n",
    "\n",
    "# Sample DataFrame\n",
    "df = pd.DataFrame({\n",
    "    'A': [1, 2, 3],\n",
    "    'B': [4, 5, 6],\n",
    "    'C': [7, 8, 9]\n",
    "})"
   ]
  },
  {
   "cell_type": "code",
   "execution_count": 159,
   "metadata": {},
   "outputs": [
    {
     "name": "stderr",
     "output_type": "stream",
     "text": [
      "/var/folders/2b/zl_96rss51b7s3f624fmp24m0000gn/T/ipykernel_14292/976964792.py:4: FutureWarning: DataFrame.applymap has been deprecated. Use DataFrame.map instead.\n",
      "  df_multiply=df.applymap(multiply_by_2)\n"
     ]
    },
    {
     "data": {
      "text/html": [
       "<div>\n",
       "<style scoped>\n",
       "    .dataframe tbody tr th:only-of-type {\n",
       "        vertical-align: middle;\n",
       "    }\n",
       "\n",
       "    .dataframe tbody tr th {\n",
       "        vertical-align: top;\n",
       "    }\n",
       "\n",
       "    .dataframe thead th {\n",
       "        text-align: right;\n",
       "    }\n",
       "</style>\n",
       "<table border=\"1\" class=\"dataframe\">\n",
       "  <thead>\n",
       "    <tr style=\"text-align: right;\">\n",
       "      <th></th>\n",
       "      <th>A</th>\n",
       "      <th>B</th>\n",
       "      <th>C</th>\n",
       "    </tr>\n",
       "  </thead>\n",
       "  <tbody>\n",
       "    <tr>\n",
       "      <th>0</th>\n",
       "      <td>2</td>\n",
       "      <td>8</td>\n",
       "      <td>14</td>\n",
       "    </tr>\n",
       "    <tr>\n",
       "      <th>1</th>\n",
       "      <td>4</td>\n",
       "      <td>10</td>\n",
       "      <td>16</td>\n",
       "    </tr>\n",
       "    <tr>\n",
       "      <th>2</th>\n",
       "      <td>6</td>\n",
       "      <td>12</td>\n",
       "      <td>18</td>\n",
       "    </tr>\n",
       "  </tbody>\n",
       "</table>\n",
       "</div>"
      ],
      "text/plain": [
       "   A   B   C\n",
       "0  2   8  14\n",
       "1  4  10  16\n",
       "2  6  12  18"
      ]
     },
     "execution_count": 159,
     "metadata": {},
     "output_type": "execute_result"
    }
   ],
   "source": [
    "def multiply_by_2(x):\n",
    "    return x*2\n",
    "\n",
    "df_multiply=df.applymap(multiply_by_2)\n",
    "df_multiply"
   ]
  },
  {
   "cell_type": "code",
   "execution_count": 160,
   "metadata": {},
   "outputs": [
    {
     "data": {
      "text/html": [
       "<div>\n",
       "<style scoped>\n",
       "    .dataframe tbody tr th:only-of-type {\n",
       "        vertical-align: middle;\n",
       "    }\n",
       "\n",
       "    .dataframe tbody tr th {\n",
       "        vertical-align: top;\n",
       "    }\n",
       "\n",
       "    .dataframe thead th {\n",
       "        text-align: right;\n",
       "    }\n",
       "</style>\n",
       "<table border=\"1\" class=\"dataframe\">\n",
       "  <thead>\n",
       "    <tr style=\"text-align: right;\">\n",
       "      <th></th>\n",
       "      <th>Name</th>\n",
       "      <th>Age</th>\n",
       "      <th>Movie</th>\n",
       "    </tr>\n",
       "  </thead>\n",
       "  <tbody>\n",
       "    <tr>\n",
       "      <th>0</th>\n",
       "      <td>Megan</td>\n",
       "      <td>25</td>\n",
       "      <td>Transformers</td>\n",
       "    </tr>\n",
       "    <tr>\n",
       "      <th>1</th>\n",
       "      <td>Salma</td>\n",
       "      <td>30</td>\n",
       "      <td>Desperado</td>\n",
       "    </tr>\n",
       "    <tr>\n",
       "      <th>2</th>\n",
       "      <td>Cameron Diaz</td>\n",
       "      <td>35</td>\n",
       "      <td>Charlie Angels</td>\n",
       "    </tr>\n",
       "    <tr>\n",
       "      <th>3</th>\n",
       "      <td>Scarlet</td>\n",
       "      <td>32</td>\n",
       "      <td>Avengers</td>\n",
       "    </tr>\n",
       "    <tr>\n",
       "      <th>4</th>\n",
       "      <td>Megan</td>\n",
       "      <td>25</td>\n",
       "      <td>Transformers2</td>\n",
       "    </tr>\n",
       "  </tbody>\n",
       "</table>\n",
       "</div>"
      ],
      "text/plain": [
       "           Name  Age           Movie\n",
       "0         Megan   25    Transformers\n",
       "1         Salma   30       Desperado\n",
       "2  Cameron Diaz   35  Charlie Angels\n",
       "3       Scarlet   32        Avengers\n",
       "4         Megan   25   Transformers2"
      ]
     },
     "execution_count": 160,
     "metadata": {},
     "output_type": "execute_result"
    }
   ],
   "source": [
    "\"\"\"df.iterrows()\"\"\"\n",
    "\n",
    "# Sample data\n",
    "Name = ['Megan', 'Salma', 'Cameron Diaz','Scarlet','Megan']\n",
    "Age = [25, 30, 35,32,25]\n",
    "Movie = ['Transformers', 'Desperado', 'Charlie Angels','Avengers','Transformers2']\n",
    "\n",
    "data=list(zip(Name,Age,Movie))\n",
    "#dataframe\n",
    "df=pd.DataFrame(data,columns=['Name','Age','Movie'])\n",
    "df"
   ]
  },
  {
   "cell_type": "code",
   "execution_count": 161,
   "metadata": {},
   "outputs": [
    {
     "name": "stdout",
     "output_type": "stream",
     "text": [
      "0\n",
      "Name            Megan\n",
      "Age                25\n",
      "Movie    Transformers\n",
      "Name: 0, dtype: object\n",
      "\n",
      "1\n",
      "Name         Salma\n",
      "Age             30\n",
      "Movie    Desperado\n",
      "Name: 1, dtype: object\n",
      "\n",
      "2\n",
      "Name       Cameron Diaz\n",
      "Age                  35\n",
      "Movie    Charlie Angels\n",
      "Name: 2, dtype: object\n",
      "\n",
      "3\n",
      "Name      Scarlet\n",
      "Age            32\n",
      "Movie    Avengers\n",
      "Name: 3, dtype: object\n",
      "\n",
      "4\n",
      "Name             Megan\n",
      "Age                 25\n",
      "Movie    Transformers2\n",
      "Name: 4, dtype: object\n",
      "\n"
     ]
    }
   ],
   "source": [
    "for index, row in df.iterrows():\n",
    "    print(index)\n",
    "    print(row)\n",
    "    print()"
   ]
  },
  {
   "cell_type": "code",
   "execution_count": 163,
   "metadata": {},
   "outputs": [
    {
     "data": {
      "text/plain": [
       "pandas.core.series.Series"
      ]
     },
     "execution_count": 163,
     "metadata": {},
     "output_type": "execute_result"
    }
   ],
   "source": [
    "type(df.loc[0])"
   ]
  },
  {
   "cell_type": "code",
   "execution_count": 164,
   "metadata": {},
   "outputs": [
    {
     "name": "stderr",
     "output_type": "stream",
     "text": [
      "/var/folders/2b/zl_96rss51b7s3f624fmp24m0000gn/T/ipykernel_14292/1632494236.py:5: FutureWarning: Setting an item of incompatible dtype is deprecated and will raise an error in a future version of pandas. Value 'young' has dtype incompatible with int64, please explicitly cast to a compatible dtype first.\n",
      "  df.at[index,'Age']='young'\n"
     ]
    },
    {
     "data": {
      "text/html": [
       "<div>\n",
       "<style scoped>\n",
       "    .dataframe tbody tr th:only-of-type {\n",
       "        vertical-align: middle;\n",
       "    }\n",
       "\n",
       "    .dataframe tbody tr th {\n",
       "        vertical-align: top;\n",
       "    }\n",
       "\n",
       "    .dataframe thead th {\n",
       "        text-align: right;\n",
       "    }\n",
       "</style>\n",
       "<table border=\"1\" class=\"dataframe\">\n",
       "  <thead>\n",
       "    <tr style=\"text-align: right;\">\n",
       "      <th></th>\n",
       "      <th>Name</th>\n",
       "      <th>Age</th>\n",
       "      <th>Movie</th>\n",
       "    </tr>\n",
       "  </thead>\n",
       "  <tbody>\n",
       "    <tr>\n",
       "      <th>0</th>\n",
       "      <td>Megan</td>\n",
       "      <td>young</td>\n",
       "      <td>Transformers</td>\n",
       "    </tr>\n",
       "    <tr>\n",
       "      <th>1</th>\n",
       "      <td>Salma</td>\n",
       "      <td>Old</td>\n",
       "      <td>Desperado</td>\n",
       "    </tr>\n",
       "    <tr>\n",
       "      <th>2</th>\n",
       "      <td>Cameron Diaz</td>\n",
       "      <td>Old</td>\n",
       "      <td>Charlie Angels</td>\n",
       "    </tr>\n",
       "    <tr>\n",
       "      <th>3</th>\n",
       "      <td>Scarlet</td>\n",
       "      <td>Old</td>\n",
       "      <td>Avengers</td>\n",
       "    </tr>\n",
       "    <tr>\n",
       "      <th>4</th>\n",
       "      <td>Megan</td>\n",
       "      <td>young</td>\n",
       "      <td>Transformers2</td>\n",
       "    </tr>\n",
       "  </tbody>\n",
       "</table>\n",
       "</div>"
      ],
      "text/plain": [
       "           Name    Age           Movie\n",
       "0         Megan  young    Transformers\n",
       "1         Salma    Old       Desperado\n",
       "2  Cameron Diaz    Old  Charlie Angels\n",
       "3       Scarlet    Old        Avengers\n",
       "4         Megan  young   Transformers2"
      ]
     },
     "execution_count": 164,
     "metadata": {},
     "output_type": "execute_result"
    }
   ],
   "source": [
    "for index, row in df.iterrows():\n",
    "    if row['Age']>=30:\n",
    "        df.at[index,'Age']='Old'\n",
    "    else:\n",
    "        df.at[index,'Age']='young'\n",
    "\n",
    "df"
   ]
  },
  {
   "cell_type": "code",
   "execution_count": 165,
   "metadata": {},
   "outputs": [
    {
     "data": {
      "text/html": [
       "<div>\n",
       "<style scoped>\n",
       "    .dataframe tbody tr th:only-of-type {\n",
       "        vertical-align: middle;\n",
       "    }\n",
       "\n",
       "    .dataframe tbody tr th {\n",
       "        vertical-align: top;\n",
       "    }\n",
       "\n",
       "    .dataframe thead th {\n",
       "        text-align: right;\n",
       "    }\n",
       "</style>\n",
       "<table border=\"1\" class=\"dataframe\">\n",
       "  <thead>\n",
       "    <tr style=\"text-align: right;\">\n",
       "      <th></th>\n",
       "      <th>Name</th>\n",
       "      <th>Age</th>\n",
       "      <th>Movie</th>\n",
       "    </tr>\n",
       "  </thead>\n",
       "  <tbody>\n",
       "    <tr>\n",
       "      <th>0</th>\n",
       "      <td>Megan</td>\n",
       "      <td>25</td>\n",
       "      <td>Transformers</td>\n",
       "    </tr>\n",
       "    <tr>\n",
       "      <th>1</th>\n",
       "      <td>Salma</td>\n",
       "      <td>30</td>\n",
       "      <td>Desperado</td>\n",
       "    </tr>\n",
       "    <tr>\n",
       "      <th>2</th>\n",
       "      <td>Cameron Diaz</td>\n",
       "      <td>35</td>\n",
       "      <td>Charlie Angels</td>\n",
       "    </tr>\n",
       "    <tr>\n",
       "      <th>3</th>\n",
       "      <td>Scarlet</td>\n",
       "      <td>32</td>\n",
       "      <td>Avengers</td>\n",
       "    </tr>\n",
       "    <tr>\n",
       "      <th>4</th>\n",
       "      <td>Megan</td>\n",
       "      <td>25</td>\n",
       "      <td>Transformers2</td>\n",
       "    </tr>\n",
       "  </tbody>\n",
       "</table>\n",
       "</div>"
      ],
      "text/plain": [
       "           Name  Age           Movie\n",
       "0         Megan   25    Transformers\n",
       "1         Salma   30       Desperado\n",
       "2  Cameron Diaz   35  Charlie Angels\n",
       "3       Scarlet   32        Avengers\n",
       "4         Megan   25   Transformers2"
      ]
     },
     "execution_count": 165,
     "metadata": {},
     "output_type": "execute_result"
    }
   ],
   "source": [
    "\"\"\"df.itertuples()\"\"\"\n",
    "\n",
    "# Sample data\n",
    "Name = ['Megan', 'Salma', 'Cameron Diaz','Scarlet','Megan']\n",
    "Age = [25, 30, 35,32,25]\n",
    "Movie = ['Transformers', 'Desperado', 'Charlie Angels','Avengers','Transformers2']\n",
    "\n",
    "data=list(zip(Name,Age,Movie))\n",
    "#dataframe\n",
    "df=pd.DataFrame(data,columns=['Name','Age','Movie'])\n",
    "df"
   ]
  },
  {
   "cell_type": "code",
   "execution_count": 166,
   "metadata": {},
   "outputs": [
    {
     "name": "stdout",
     "output_type": "stream",
     "text": [
      "Pandas(Index=0, Name='Megan', Age=25, Movie='Transformers')\n",
      "Pandas(Index=1, Name='Salma', Age=30, Movie='Desperado')\n",
      "Pandas(Index=2, Name='Cameron Diaz', Age=35, Movie='Charlie Angels')\n",
      "Pandas(Index=3, Name='Scarlet', Age=32, Movie='Avengers')\n",
      "Pandas(Index=4, Name='Megan', Age=25, Movie='Transformers2')\n"
     ]
    }
   ],
   "source": [
    "for row in df.itertuples():\n",
    "    print(row)"
   ]
  },
  {
   "cell_type": "code",
   "execution_count": 167,
   "metadata": {},
   "outputs": [
    {
     "name": "stdout",
     "output_type": "stream",
     "text": [
      "row index:0 and name is Megan\n",
      "row index:1 and name is Salma\n",
      "row index:2 and name is Cameron Diaz\n",
      "row index:3 and name is Scarlet\n",
      "row index:4 and name is Megan\n"
     ]
    }
   ],
   "source": [
    "for row in df.itertuples():\n",
    "    print(f\"row index:{row.Index} and name is {row.Name}\")"
   ]
  },
  {
   "cell_type": "code",
   "execution_count": 168,
   "metadata": {},
   "outputs": [
    {
     "data": {
      "text/html": [
       "<div>\n",
       "<style scoped>\n",
       "    .dataframe tbody tr th:only-of-type {\n",
       "        vertical-align: middle;\n",
       "    }\n",
       "\n",
       "    .dataframe tbody tr th {\n",
       "        vertical-align: top;\n",
       "    }\n",
       "\n",
       "    .dataframe thead th {\n",
       "        text-align: right;\n",
       "    }\n",
       "</style>\n",
       "<table border=\"1\" class=\"dataframe\">\n",
       "  <thead>\n",
       "    <tr style=\"text-align: right;\">\n",
       "      <th></th>\n",
       "      <th>Name</th>\n",
       "      <th>Age</th>\n",
       "      <th>Movie</th>\n",
       "    </tr>\n",
       "  </thead>\n",
       "  <tbody>\n",
       "    <tr>\n",
       "      <th>0</th>\n",
       "      <td>Megan</td>\n",
       "      <td>25</td>\n",
       "      <td>Transformers</td>\n",
       "    </tr>\n",
       "    <tr>\n",
       "      <th>1</th>\n",
       "      <td>Salma</td>\n",
       "      <td>30</td>\n",
       "      <td>Desperado</td>\n",
       "    </tr>\n",
       "    <tr>\n",
       "      <th>2</th>\n",
       "      <td>Cameron Diaz</td>\n",
       "      <td>35</td>\n",
       "      <td>Charlie Angels</td>\n",
       "    </tr>\n",
       "    <tr>\n",
       "      <th>3</th>\n",
       "      <td>Scarlet</td>\n",
       "      <td>32</td>\n",
       "      <td>Avengers</td>\n",
       "    </tr>\n",
       "    <tr>\n",
       "      <th>4</th>\n",
       "      <td>Megan</td>\n",
       "      <td>25</td>\n",
       "      <td>Transformers2</td>\n",
       "    </tr>\n",
       "  </tbody>\n",
       "</table>\n",
       "</div>"
      ],
      "text/plain": [
       "           Name  Age           Movie\n",
       "0         Megan   25    Transformers\n",
       "1         Salma   30       Desperado\n",
       "2  Cameron Diaz   35  Charlie Angels\n",
       "3       Scarlet   32        Avengers\n",
       "4         Megan   25   Transformers2"
      ]
     },
     "execution_count": 168,
     "metadata": {},
     "output_type": "execute_result"
    }
   ],
   "source": [
    "\"\"\"Moving multiple dataframes\"\"\"\n",
    "\n",
    "\n",
    "# Sample data\n",
    "Name = ['Megan', 'Salma', 'Cameron Diaz','Scarlet','Megan']\n",
    "Age = [25, 30, 35,32,25]\n",
    "Movie = ['Transformers', 'Desperado', 'Charlie Angels','Avengers','Transformers2']\n",
    "\n",
    "data=list(zip(Name,Age,Movie))\n",
    "#dataframe\n",
    "df=pd.DataFrame(data,columns=['Name','Age','Movie'])\n",
    "df\n"
   ]
  },
  {
   "cell_type": "code",
   "execution_count": 169,
   "metadata": {},
   "outputs": [],
   "source": [
    "# Sample DataFrame\n",
    "df2 = pd.DataFrame({\n",
    "    'A': [1, 2, 3],\n",
    "    'B': [4, 5, 6],\n",
    "    'C': [7, 8, 9]\n",
    "})"
   ]
  },
  {
   "cell_type": "code",
   "execution_count": 170,
   "metadata": {},
   "outputs": [
    {
     "data": {
      "text/html": [
       "<div>\n",
       "<style scoped>\n",
       "    .dataframe tbody tr th:only-of-type {\n",
       "        vertical-align: middle;\n",
       "    }\n",
       "\n",
       "    .dataframe tbody tr th {\n",
       "        vertical-align: top;\n",
       "    }\n",
       "\n",
       "    .dataframe thead th {\n",
       "        text-align: right;\n",
       "    }\n",
       "</style>\n",
       "<table border=\"1\" class=\"dataframe\">\n",
       "  <thead>\n",
       "    <tr style=\"text-align: right;\">\n",
       "      <th></th>\n",
       "      <th>Column1</th>\n",
       "      <th>Column2</th>\n",
       "    </tr>\n",
       "  </thead>\n",
       "  <tbody>\n",
       "    <tr>\n",
       "      <th>0</th>\n",
       "      <td>1</td>\n",
       "      <td>10</td>\n",
       "    </tr>\n",
       "    <tr>\n",
       "      <th>1</th>\n",
       "      <td>2</td>\n",
       "      <td>20</td>\n",
       "    </tr>\n",
       "    <tr>\n",
       "      <th>2</th>\n",
       "      <td>3</td>\n",
       "      <td>30</td>\n",
       "    </tr>\n",
       "    <tr>\n",
       "      <th>3</th>\n",
       "      <td>4</td>\n",
       "      <td>40</td>\n",
       "    </tr>\n",
       "    <tr>\n",
       "      <th>4</th>\n",
       "      <td>5</td>\n",
       "      <td>50</td>\n",
       "    </tr>\n",
       "  </tbody>\n",
       "</table>\n",
       "</div>"
      ],
      "text/plain": [
       "   Column1  Column2\n",
       "0        1       10\n",
       "1        2       20\n",
       "2        3       30\n",
       "3        4       40\n",
       "4        5       50"
      ]
     },
     "execution_count": 170,
     "metadata": {},
     "output_type": "execute_result"
    }
   ],
   "source": [
    "\n",
    "data = {\n",
    "    'Column1': [1, 2, 3, 4, 5],\n",
    "    'Column2': [10, 20, 30, 40, 50]\n",
    "}\n",
    "\n",
    "df3 = pd.DataFrame(data)\n",
    "\n",
    "df3"
   ]
  },
  {
   "cell_type": "code",
   "execution_count": 171,
   "metadata": {},
   "outputs": [
    {
     "name": "stdout",
     "output_type": "stream",
     "text": [
      "All dataframes are successfully saved on local machine\n",
      "All dataframes are successfully saved on local machine\n",
      "All dataframes are successfully saved on local machine\n"
     ]
    }
   ],
   "source": [
    "dataframes={'Movies':df,'Random1':df2,'Random3':df3}\n",
    "\n",
    "for name, df in dataframes.items():\n",
    "    filename=f\"{name}.csv\"\n",
    "    df.to_csv(filename, index=False)\n",
    "    print('All dataframes are successfully saved on local machine')"
   ]
  },
  {
   "cell_type": "code",
   "execution_count": 18,
   "metadata": {},
   "outputs": [],
   "source": [
    "import pandas as pd\n",
    "\n",
    "data = {\n",
    "    'Product': ['Laptop', 'Phone', 'Tablet', 'Monitor', 'Keyboard'],\n",
    "    'Price': [1200, 800, 300, 150, 50]\n",
    "}\n",
    "\n",
    "df = pd.DataFrame(data)"
   ]
  },
  {
   "cell_type": "code",
   "execution_count": 23,
   "metadata": {},
   "outputs": [],
   "source": [
    "data = {\n",
    "    'A': [1, 2, 3, 4],\n",
    "    'B': [10, 20, 30, 40],\n",
    "    'C': [100, 200, 300, 400]\n",
    "}\n",
    "\n",
    "df = pd.DataFrame(data)"
   ]
  },
  {
   "cell_type": "code",
   "execution_count": 3,
   "metadata": {},
   "outputs": [],
   "source": [
    "# Sample DataFrame\n",
    "df = pd.DataFrame({\n",
    "    'A': [1, 2, 3],\n",
    "    'B': [4, 5, 6],\n",
    "    'C': [7, 8, 9]\n",
    "})"
   ]
  },
  {
   "cell_type": "code",
   "execution_count": 6,
   "metadata": {},
   "outputs": [],
   "source": [
    "# Sample list\n",
    "fruits = ['apple', 'banana', 'cherry']"
   ]
  },
  {
   "cell_type": "code",
   "execution_count": 5,
   "metadata": {},
   "outputs": [
    {
     "data": {
      "text/plain": [
       "{0: 5, 1: 7, 2: 9, 3: 5}"
      ]
     },
     "execution_count": 5,
     "metadata": {},
     "output_type": "execute_result"
    }
   ],
   "source": [
    "#given an integer array nums and an integer k returns True if there are two distinct indices  and j in the array such that\n",
    "#nums[i] == nums[j] and abs(i-j) <= k\n",
    "nums=[5,7,9,5]\n",
    "k=3\n",
    "\n",
    "def arrfunc(nums,k):    \n",
    "    my_dict={}\n",
    "\n",
    "    for index, value in enumerate(nums):\n",
    "        if value in my_dict and abs(index- my_dict[value]) <= k:\n",
    "            return True\n",
    "        my_dict[value]=index\n",
    "\n",
    "    return False\n",
    "    \n",
    "\n",
    "arrfunc(nums,k)\n"
   ]
  },
  {
   "cell_type": "code",
   "execution_count": 15,
   "metadata": {},
   "outputs": [],
   "source": [
    "split=''\n",
    "def check_char(string):\n",
    "    split=string.split()\n",
    "    if str(split[0])[0].lower() == str(split[1])[0].lower():\n",
    "        return True\n",
    "    else:\n",
    "        return False"
   ]
  },
  {
   "cell_type": "code",
   "execution_count": 17,
   "metadata": {},
   "outputs": [
    {
     "data": {
      "text/plain": [
       "False"
      ]
     },
     "execution_count": 17,
     "metadata": {},
     "output_type": "execute_result"
    }
   ],
   "source": [
    "check_char('Lazy Dog')"
   ]
  },
  {
   "cell_type": "code",
   "execution_count": 26,
   "metadata": {},
   "outputs": [],
   "source": [
    "inp_str=\"( { [ ) ] }\"\n",
    "#as every open bracket has its corresponding closer bracket. Match parantheses are in correct order, hence they are balanced, \n",
    "#and function will return True\n",
    "\n",
    "my_dict={\"(\": \")\", \"{\": \"}\", \"[\": \"]\"}\n",
    "def isvalid(string):\n",
    "    lst=[]\n",
    "    for x in string:\n",
    "        if x in my_dict.keys():\n",
    "            lst.append(x)\n",
    "        elif x in my_dict.values():\n",
    "            if lst and my_dict[lst[-1]] == x :\n",
    "                lst.pop()\n",
    "            else:\n",
    "                return False\n"
   ]
  },
  {
   "cell_type": "code",
   "execution_count": 27,
   "metadata": {},
   "outputs": [
    {
     "data": {
      "text/plain": [
       "False"
      ]
     },
     "execution_count": 27,
     "metadata": {},
     "output_type": "execute_result"
    }
   ],
   "source": [
    "isvalid(inp_str)"
   ]
  },
  {
   "cell_type": "code",
   "execution_count": null,
   "metadata": {},
   "outputs": [],
   "source": [
    "lst=[10,20,30,40,50,60,10,10,20,30,30,30,30,30,40,50,50,50,50]\n",
    "\n",
    "my_dict={}\n",
    "\n",
    "for element in lst:\n",
    "    if element in my_dict:\n",
    "        my_dict[element]+=1\n",
    "    else:\n",
    "        my_dict[element] =1\n",
    "\n",
    "print(my_dict) \n"
   ]
  },
  {
   "cell_type": "code",
   "execution_count": 118,
   "metadata": {},
   "outputs": [
    {
     "data": {
      "text/plain": [
       "[0, 5]"
      ]
     },
     "execution_count": 118,
     "metadata": {},
     "output_type": "execute_result"
    }
   ],
   "source": [
    "\"\"\"Write a program to retrieve the elements which matches the frequency given in input\n",
    "nums=[0,0,2,3,3,3,3,5,5], k=2\"\"\"\n",
    "\n",
    "nums=[0,0,2,3,3,3,3,5,5]\n",
    "k=2\n",
    "output={}\n",
    "lst=[]\n",
    "def num_count(nums,k):\n",
    "    for i in nums:\n",
    "        if i in output:\n",
    "            output[i]+=1\n",
    "        else:\n",
    "            output[i]=1\n",
    "\n",
    "    for i,j in output.items():\n",
    "        if j == k:\n",
    "            lst.append(i)\n",
    "    \n",
    "        \n",
    "    return lst\n",
    "            \n",
    "num_count(nums,k)\n"
   ]
  },
  {
   "cell_type": "code",
   "execution_count": 119,
   "metadata": {},
   "outputs": [
    {
     "name": "stdout",
     "output_type": "stream",
     "text": [
      "Number of non-numeric values: 1\n"
     ]
    }
   ],
   "source": [
    "# Sample DataFrame\n",
    "data = {'column': ['30', '40', '50', 'Free']}\n",
    "df = pd.DataFrame(data)\n",
    "\n",
    "# Convert column values to numeric, errors='coerce' converts non-numeric values to NaN\n",
    "numeric_column = pd.to_numeric(df['column'], errors='coerce')\n",
    "\n",
    "# Count the number of NaN values\n",
    "non_numeric_count = numeric_column.isna().sum()\n",
    "\n",
    "print(\"Number of non-numeric values:\", non_numeric_count)\n"
   ]
  },
  {
   "cell_type": "code",
   "execution_count": 121,
   "metadata": {},
   "outputs": [
    {
     "data": {
      "text/html": [
       "<div>\n",
       "<style scoped>\n",
       "    .dataframe tbody tr th:only-of-type {\n",
       "        vertical-align: middle;\n",
       "    }\n",
       "\n",
       "    .dataframe tbody tr th {\n",
       "        vertical-align: top;\n",
       "    }\n",
       "\n",
       "    .dataframe thead th {\n",
       "        text-align: right;\n",
       "    }\n",
       "</style>\n",
       "<table border=\"1\" class=\"dataframe\">\n",
       "  <thead>\n",
       "    <tr style=\"text-align: right;\">\n",
       "      <th></th>\n",
       "      <th>column</th>\n",
       "      <th>Numeric</th>\n",
       "    </tr>\n",
       "  </thead>\n",
       "  <tbody>\n",
       "    <tr>\n",
       "      <th>0</th>\n",
       "      <td>30</td>\n",
       "      <td>True</td>\n",
       "    </tr>\n",
       "    <tr>\n",
       "      <th>1</th>\n",
       "      <td>40</td>\n",
       "      <td>True</td>\n",
       "    </tr>\n",
       "    <tr>\n",
       "      <th>2</th>\n",
       "      <td>50</td>\n",
       "      <td>True</td>\n",
       "    </tr>\n",
       "    <tr>\n",
       "      <th>3</th>\n",
       "      <td>Free</td>\n",
       "      <td>False</td>\n",
       "    </tr>\n",
       "  </tbody>\n",
       "</table>\n",
       "</div>"
      ],
      "text/plain": [
       "  column  Numeric\n",
       "0     30     True\n",
       "1     40     True\n",
       "2     50     True\n",
       "3   Free    False"
      ]
     },
     "execution_count": 121,
     "metadata": {},
     "output_type": "execute_result"
    }
   ],
   "source": [
    "data = {'column': [30, 40, 50, 'Free']}\n",
    "df = pd.DataFrame(data)\n",
    "\n",
    "df['Numeric']=[ True if isinstance(x,(int,float)) else False for x in df['column']]\n",
    "df"
   ]
  },
  {
   "cell_type": "code",
   "execution_count": null,
   "metadata": {},
   "outputs": [],
   "source": []
  }
 ],
 "metadata": {
  "kernelspec": {
   "display_name": "Python 3",
   "language": "python",
   "name": "python3"
  },
  "language_info": {
   "codemirror_mode": {
    "name": "ipython",
    "version": 3
   },
   "file_extension": ".py",
   "mimetype": "text/x-python",
   "name": "python",
   "nbconvert_exporter": "python",
   "pygments_lexer": "ipython3",
   "version": "3.12.2"
  }
 },
 "nbformat": 4,
 "nbformat_minor": 2
}
